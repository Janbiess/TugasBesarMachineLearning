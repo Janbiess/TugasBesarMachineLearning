{
  "nbformat": 4,
  "nbformat_minor": 0,
  "metadata": {
    "colab": {
      "provenance": [],
      "gpuType": "T4"
    },
    "kernelspec": {
      "name": "python3",
      "display_name": "Python 3"
    },
    "language_info": {
      "name": "python"
    },
    "accelerator": "GPU"
  },
  "cells": [
    {
      "cell_type": "markdown",
      "source": [
        "# Unit 12: Etika dan Bias dalam Visi Komputer\n",
        "\n",
        "### 1. Menyelami Dasar-Dasar Etika dalam Model CV\n",
        "#### Penjelasan:\n",
        "#### Dalam pengembangan model visi komputer (CV), penting untuk mempertimbangkan aspek etika agar teknologi digunakan secara bertanggung jawab. Teknologi CV memiliki potensi besar untuk memberikan manfaat, terutama di bidang medis, keamanan, dan transportasi. Namun, jika tidak dikembangkan dengan hati-hati, teknologi ini bisa memperburuk bias yang sudah ada, melanggar privasi, atau menyebabkan dampak negatif lainnya bagi individu atau kelompok tertentu.\n",
        "\n",
        "#### Beberapa pertimbangan etis utama:\n",
        "##### - **Privasi**: Apakah data yang digunakan melanggar privasi seseorang? Contohnya adalah penggunaan sistem pengenalan wajah yang mengambil data visual tanpa persetujuan dari pengguna.\n",
        "##### - **Bias**: Apakah model memperlakukan kelompok tertentu secara tidak adil? Misalnya, algoritma yang lebih akurat dalam mengenali wajah orang dari ras tertentu dibandingkan dengan ras lainnya.\n",
        "##### - **Keamanan**: Apakah model aman dari penyalahgunaan atau serangan adversarial? Misalnya, gambar yang dimodifikasi untuk mengecoh model pengenalan objek sehingga menghasilkan prediksi yang salah.\n",
        "\n",
        "#### Dengan memahami dasar-dasar etika dalam model CV, pengembang dapat mengambil langkah-langkah untuk mengurangi potensi risiko yang mungkin muncul akibat penggunaan teknologi ini."
      ],
      "metadata": {
        "id": "-ta1bqxJIXW4"
      }
    },
    {
      "cell_type": "code",
      "source": [
        "print(\"[INFO] Exploring Ethical Foundations in CV Models\")"
      ],
      "metadata": {
        "colab": {
          "base_uri": "https://localhost:8080/"
        },
        "id": "SqyTTXx9Ivbh",
        "outputId": "a042da52-03e6-4f5e-8e82-178231e3c191"
      },
      "execution_count": null,
      "outputs": [
        {
          "output_type": "stream",
          "name": "stdout",
          "text": [
            "[INFO] Exploring Ethical Foundations in CV Models\n"
          ]
        }
      ]
    },
    {
      "cell_type": "markdown",
      "source": [
        "### 2. Pendahuluan\n",
        "#### Penjelasan:\n",
        "#### Etika dalam AI dan visi komputer mencakup berbagai aspek, mulai dari pengumpulan data hingga penerapan model. Penggunaan dataset yang bias atau desain model yang tidak hati-hati dapat menyebabkan keputusan yang tidak adil. Oleh karena itu, pengembang perlu mempertimbangkan dampak sosial dan etika dari teknologi yang mereka ciptakan.\n",
        "\n",
        "#### Contoh kasus:\n",
        "##### - Sistem pengenalan wajah yang lebih akurat untuk satu kelompok tertentu, namun kurang efektif untuk kelompok lainnya.\n",
        "##### - Algoritma deteksi objek yang tidak mampu mengenali variasi budaya dalam pakaian atau barang.\n",
        "##### - Sistem keamanan berbasis CV yang secara tidak adil menargetkan kelompok tertentu akibat bias dalam data pelatihan.\n",
        "\n",
        "#### Tujuan utama adalah memastikan bahwa model yang dikembangkan bersifat inklusif, adil, dan tidak merugikan kelompok manapun."
      ],
      "metadata": {
        "id": "JPehgUppI0Sb"
      }
    },
    {
      "cell_type": "code",
      "source": [
        "print(\"[INFO] Introduction to Ethics in Computer Vision\")"
      ],
      "metadata": {
        "colab": {
          "base_uri": "https://localhost:8080/"
        },
        "id": "WeqUj2JRJD_V",
        "outputId": "1c6be0bd-bd3c-40b2-ac75-f33e584fcd6d"
      },
      "execution_count": null,
      "outputs": [
        {
          "output_type": "stream",
          "name": "stdout",
          "text": [
            "[INFO] Introduction to Ethics in Computer Vision\n"
          ]
        }
      ]
    },
    {
      "cell_type": "markdown",
      "source": [
        "### 3. Etika dan Bias dalam AI\n",
        "#### Penjelasan:\n",
        "#### Bias dalam AI dapat muncul dari berbagai sumber, seperti dataset, algoritma, dan interpretasi hasil. Bias dataset merupakan salah satu penyebab paling umum, di mana data pelatihan tidak mencakup variasi yang cukup untuk mewakili semua kelompok atau kondisi. Sebagai contoh, jika dataset hanya berisi gambar dari lingkungan perkotaan, model mungkin kesulitan mengenali objek dalam konteks pedesaan.\n",
        "\n",
        "#### Jenis-jenis bias dalam AI:\n",
        "##### - **Bias Dataset**: Ketidakseimbangan dalam distribusi data berdasarkan atribut seperti jenis kelamin, ras, atau usia.\n",
        "##### - **Bias Algoritmik**: Algoritma yang dikembangkan tanpa mempertimbangkan keberagaman data, sehingga menghasilkan model yang tidak adil.\n",
        "##### - **Bias Interpretasi**: Kesalahan dalam memahami hasil model, yang sering kali dipengaruhi oleh prasangka manusia."
      ],
      "metadata": {
        "id": "F7QhanAcJIWg"
      }
    },
    {
      "cell_type": "code",
      "source": [
        "# Import library pandas untuk memanipulasi data dalam format CSV\n",
        "import pandas as pd\n",
        "\n",
        "# Fungsi untuk menganalisis bias dalam dataset berdasarkan kolom tertentu\n",
        "def analyze_bias(dataset_path, column):\n",
        "    # Membaca dataset CSV dan menyimpannya dalam variabel 'data'\n",
        "    data = pd.read_csv(dataset_path)\n",
        "\n",
        "    # Menampilkan distribusi nilai pada kolom yang ditentukan\n",
        "    print(f\"Distribusi nilai pada kolom {column}:\")\n",
        "\n",
        "    # Menghitung dan menampilkan frekuensi relatif (normalisasi) nilai pada kolom\n",
        "    # value_counts(normalize=True) menghitung persentase kemunculan tiap nilai unik\n",
        "    print(data[column].value_counts(normalize=True))\n",
        "\n",
        "# Penggunaan fungsi ini untuk menganalisis bias berdasarkan kolom 'gender' pada dataset 'dataset.csv'\n",
        "# analyze_bias(\"dataset.csv\", \"gender\")"
      ],
      "metadata": {
        "id": "gQ3xz8bhJWJA"
      },
      "execution_count": null,
      "outputs": []
    },
    {
      "cell_type": "code",
      "source": [
        "print(\"[INFO] Ethics and Bias in AI discussed\")"
      ],
      "metadata": {
        "colab": {
          "base_uri": "https://localhost:8080/"
        },
        "id": "auqFO6trKGBN",
        "outputId": "7123e266-82b8-467e-9f31-4d361362ee84"
      },
      "execution_count": null,
      "outputs": [
        {
          "output_type": "stream",
          "name": "stdout",
          "text": [
            "[INFO] Ethics and Bias in AI discussed\n"
          ]
        }
      ]
    },
    {
      "cell_type": "markdown",
      "source": [
        "### 4. Upaya Hugging Face: Etika dan Masyarakat\n",
        "#### Penjelasan:\n",
        "#### Hugging Face berkomitmen untuk memastikan pengembangan AI yang adil dan bertanggung jawab. Mereka memiliki tim yang fokus pada dampak sosial dan etika dari teknologi AI. Tim ini bekerja untuk mengidentifikasi risiko potensial dan menyusun pedoman guna mengurangi bias dalam model AI.\n",
        "\n",
        "#### Beberapa inisiatif Hugging Face:\n",
        "##### - **Transparansi Model**: Memberikan informasi yang jelas tentang bagaimana model dilatih dan dataset apa yang digunakan.\n",
        "##### - **Panduan Etika**: Menyediakan panduan untuk menggunakan teknologi AI dengan cara yang bertanggung jawab.\n",
        "##### - **Open Source**: Mendorong keterbukaan dalam pengembangan AI dengan menyediakan repositori open source, sehingga pengembang lain bisa mengevaluasi dan meningkatkan teknologi tersebut."
      ],
      "metadata": {
        "id": "Q0JKqCVbKGyr"
      }
    },
    {
      "cell_type": "code",
      "source": [
        "print(\"[INFO] Hugging Face's Efforts in Ethics and Society\")"
      ],
      "metadata": {
        "colab": {
          "base_uri": "https://localhost:8080/"
        },
        "id": "KJzMOTatKSLz",
        "outputId": "c2994d35-0ba2-4121-d321-a91c7884a1d8"
      },
      "execution_count": null,
      "outputs": [
        {
          "output_type": "stream",
          "name": "stdout",
          "text": [
            "[INFO] Hugging Face's Efforts in Ethics and Society\n"
          ]
        }
      ]
    },
    {
      "cell_type": "markdown",
      "source": [
        "### 5. Bacaan Tambahan dan Sumber Daya\n",
        "#### Penjelasan:\n",
        "#### Untuk memperdalam pemahaman mengenai etika dalam AI dan visi komputer, terdapat berbagai sumber daya tambahan yang dapat diakses. Berikut beberapa rekomendasi:\n",
        "##### - **Kursus fast.ai tentang Etika AI**: Kursus ini membahas berbagai aspek etika dalam pengembangan AI, termasuk dampak sosial yang ditimbulkan oleh teknologi ini.\n",
        "##### - **Buku \"Artificial Unintelligence\"**: Buku ini menjelaskan bagaimana bias dan kesalahan desain dapat mempengaruhi AI serta memberikan wawasan tentang cara mengatasi masalah tersebut.\n",
        "##### - **Laporan Montreal AI Ethics Institute**: Laporan ini mencakup tren terkini, tantangan, dan peluang dalam etika AI, serta memberikan rekomendasi bagi pengembang dan pembuat kebijakan."
      ],
      "metadata": {
        "id": "qU-OCyskKT3n"
      }
    },
    {
      "cell_type": "code",
      "source": [
        "print(\"[INFO] Supplementary Reading and Resources Provided\")"
      ],
      "metadata": {
        "colab": {
          "base_uri": "https://localhost:8080/"
        },
        "id": "X8vdPkXKKh8F",
        "outputId": "55988f31-b01c-4ba5-f83d-bb16e319ab1d"
      },
      "execution_count": null,
      "outputs": [
        {
          "output_type": "stream",
          "name": "stdout",
          "text": [
            "[INFO] Supplementary Reading and Resources Provided\n"
          ]
        }
      ]
    }
  ]
}