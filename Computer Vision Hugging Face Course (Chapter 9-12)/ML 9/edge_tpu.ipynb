{
  "cells": [
    {
      "cell_type": "markdown",
      "metadata": {
        "id": "hRTa3Ee15WsJ"
      },
      "source": [
        "# Melatih ulang model klasifikasi untuk Edge TPU menggunakan kuantisasi pasca-pelatihan (dengan TF2)"
      ]
    },
    {
      "cell_type": "markdown",
      "metadata": {
        "id": "TaX0smDP7xQY"
      },
      "source": [
        "Dalam panduan ini, kita akan menggunakan TensorFlow 2 untuk membangun model klasifikasi gambar, melatihnya menggunakan dataset kucing & anjing, dan mengonversinya menjadi TensorFlow Lite melalui kuantisasi pasca-pelatihan. Model ini dibangun di atas MobileNet V2 yang telah dilatih sebelumnya, di mana awalnya kita melatih ulang hanya lapisan klasifikasi sambil menggunakan kembali lapisan ekstraktor fitur yang sudah dilatih. Selanjutnya, kita melakukan fine-tuning model dengan memperbarui bobot pada lapisan ekstraktor fitur tertentu, yang merupakan pendekatan lebih cepat dibandingkan melatih seluruh model dari awal. Setelah pelatihan selesai, kita menggunakan kuantisasi pasca-pelatihan untuk mengonversi semua parameter menjadi format int8, sehingga mengurangi ukuran model dan meningkatkan kecepatan inferensi. Format int8 ini sangat penting untuk kompatibilitas dengan Edge TPU yang terdapat pada perangkat Coral.\n",
        "\n",
        "Lihat dokumentasi [coral.ai](https://coral.ai/docs/edgetpu/models-intro/) untuk informasi tambahan tentang cara membuat model yang kompatibel dengan Edge TPU. Penting untuk dicatat bahwa tutorial ini memerlukan TensorFlow 2.3 atau versi yang lebih baru untuk kuantisasi penuh, dan secara khusus mengharapkan model yang dibangun menggunakan Keras. Strategi konversi ini tidak kompatibel dengan model yang diimpor dari grafik beku (frozen graph). Jika Anda menggunakan TensorFlow 1.x, Anda dapat merujuk ke [versi 1.x dari tutorial ini](https://colab.research.google.com/github/google-coral/tutorials/blob/master/retrain_classification_ptq_tf1.ipynb)."
      ]
    },
    {
      "cell_type": "markdown",
      "metadata": {
        "id": "GTCYQg_be8C0"
      },
      "source": [
        "## Import the required libraries"
      ]
    },
    {
      "cell_type": "markdown",
      "metadata": {
        "id": "02MxhCyFmpzn"
      },
      "source": [
        "Untuk melakukan kuantisasi pada tensor input dan output, Anda harus menggunakan API `TFLiteConverter`, yang tersedia di versi TensorFlow 2.3 atau yang lebih baru."
      ]
    },
    {
      "cell_type": "code",
      "execution_count": 1,
      "metadata": {
        "id": "iBMcobPHdD8O"
      },
      "outputs": [],
      "source": [
        "import tensorflow as tf\n",
        "import os\n",
        "import numpy as np\n",
        "import matplotlib.pyplot as plt"
      ]
    },
    {
      "cell_type": "markdown",
      "metadata": {
        "id": "v77rlkCKW0IJ"
      },
      "source": [
        "## Prepare the training data"
      ]
    },
    {
      "cell_type": "markdown",
      "metadata": {
        "id": "j4QOy2uA3P_p"
      },
      "source": [
        "Awalnya, kita akan mengunduh dan mengatur dataset kucing & anjing yang akan digunakan untuk melatih ulang model. Sangat penting untuk memperhatikan bagian ini jika Anda ingin mereplikasi proses ini di masa depan dengan dataset gambar kustom Anda. Secara khusus, perhatikan bahwa direktori \"PATH\" diatur dengan folder yang memiliki nama sesuai untuk setiap kelas. Kode yang disediakan akan mengacak dan membagi foto menjadi set pelatihan dan validasi, serta membuat file label yang berasal dari nama folder foto."
      ]
    },
    {
      "cell_type": "code",
      "execution_count": 2,
      "metadata": {
        "colab": {
          "base_uri": "https://localhost:8080/"
        },
        "id": "xxL2mjVVGIrV",
        "outputId": "80912539-9198-4350-9cb0-fa401d15eb6b"
      },
      "outputs": [
        {
          "output_type": "stream",
          "name": "stdout",
          "text": [
            "Downloading data from https://storage.googleapis.com/mledu-datasets/cats_and_dogs_filtered.zip\n",
            "\u001b[1m68606236/68606236\u001b[0m \u001b[32m━━━━━━━━━━━━━━━━━━━━\u001b[0m\u001b[37m\u001b[0m \u001b[1m1s\u001b[0m 0us/step\n"
          ]
        }
      ],
      "source": [
        "_URL = 'https://storage.googleapis.com/mledu-datasets/cats_and_dogs_filtered.zip'\n",
        "path_to_zip = tf.keras.utils.get_file('cats_and_dogs.zip', origin=_URL, extract=True)\n",
        "PATH = os.path.join(os.path.dirname(path_to_zip), 'cats_and_dogs_filtered')\n",
        "\n",
        "train_dir = os.path.join(PATH, 'train')\n",
        "validation_dir = os.path.join(PATH, 'validation')"
      ]
    },
    {
      "cell_type": "code",
      "execution_count": 3,
      "metadata": {
        "colab": {
          "base_uri": "https://localhost:8080/",
          "height": 36
        },
        "id": "e1LBOHlOqL6X",
        "outputId": "04dfaa75-b350-423e-8705-89ebeb5c3811"
      },
      "outputs": [
        {
          "output_type": "execute_result",
          "data": {
            "text/plain": [
              "'/root/.keras/datasets/cats_and_dogs_filtered'"
            ],
            "application/vnd.google.colaboratory.intrinsic+json": {
              "type": "string"
            }
          },
          "metadata": {},
          "execution_count": 3
        }
      ],
      "source": [
        "PATH"
      ]
    },
    {
      "cell_type": "markdown",
      "metadata": {
        "id": "z4gTv7ig2vMh"
      },
      "source": [
        "Selanjutnya, kita menggunakan [`ImageDataGenerator`](https://www.tensorflow.org/api_docs/python/tf/keras/preprocessing/image/ImageDataGenerator) untuk mereskalakan data gambar menjadi nilai float (dibagi dengan 255 sehingga nilai tensor berada di antara 0 dan 1), dan memanggil `flow_from_directory()` untuk membuat dua generator: satu untuk dataset pelatihan dan satu lagi untuk dataset validasi."
      ]
    },
    {
      "cell_type": "code",
      "execution_count": 4,
      "metadata": {
        "colab": {
          "base_uri": "https://localhost:8080/"
        },
        "id": "fwEKSBGz0mse",
        "outputId": "133e204f-0b2f-45d8-eab8-c818d70db377"
      },
      "outputs": [
        {
          "output_type": "stream",
          "name": "stdout",
          "text": [
            "Found 2000 images belonging to 2 classes.\n",
            "Found 1000 images belonging to 2 classes.\n"
          ]
        }
      ],
      "source": [
        "IMAGE_SIZE = 224\n",
        "BATCH_SIZE = 64\n",
        "\n",
        "train_datagen = tf.keras.preprocessing.image.ImageDataGenerator(rescale=1./255)\n",
        "val_datagen = tf.keras.preprocessing.image.ImageDataGenerator(rescale=1./255)\n",
        "\n",
        "train_generator = train_datagen.flow_from_directory(\n",
        "    train_dir,\n",
        "    target_size=(IMAGE_SIZE, IMAGE_SIZE),\n",
        "    batch_size=BATCH_SIZE,\n",
        "    class_mode='categorical'  # Ubah jika Anda memiliki jenis masalah yang berbeda (misalnya, binary)\n",
        ")\n",
        "\n",
        "val_generator = val_datagen.flow_from_directory(\n",
        "    validation_dir,\n",
        "    target_size=(IMAGE_SIZE, IMAGE_SIZE),\n",
        "    batch_size=BATCH_SIZE,\n",
        "    class_mode='categorical'  # Ubah jika Anda memiliki jenis masalah yang berbeda (misalnya, binary)\n",
        ")\n"
      ]
    },
    {
      "cell_type": "markdown",
      "metadata": {
        "id": "VePDZC5Bh2mO"
      },
      "source": [
        "Pada setiap iterasi, generator ini menyediakan sekumpulan gambar dengan membaca gambar dari disk dan memprosesnya ke ukuran tensor yang tepat (224 x 224). Outputnya adalah tuple (gambar, label). Misalnya, Anda dapat melihat bentuknya di sini:"
      ]
    },
    {
      "cell_type": "code",
      "execution_count": 5,
      "metadata": {
        "colab": {
          "base_uri": "https://localhost:8080/"
        },
        "id": "tx1L7fxxWA_G",
        "outputId": "13a3a2ba-e9e3-42ee-9d75-79c8eaf4415e"
      },
      "outputs": [
        {
          "output_type": "execute_result",
          "data": {
            "text/plain": [
              "((64, 224, 224, 3), (64, 2))"
            ]
          },
          "metadata": {},
          "execution_count": 5
        }
      ],
      "source": [
        "image_batch, label_batch = next(val_generator)\n",
        "image_batch.shape, label_batch.shape"
      ]
    },
    {
      "cell_type": "markdown",
      "metadata": {
        "id": "ZrFFcwUb3iK9"
      },
      "source": [
        "Sekarang simpan label kelas ke dalam file teks:"
      ]
    },
    {
      "cell_type": "code",
      "execution_count": 6,
      "metadata": {
        "colab": {
          "base_uri": "https://localhost:8080/"
        },
        "id": "-QFZIhWs4dsq",
        "outputId": "60d37e76-3af0-48e0-f957-ceec6257f55a"
      },
      "outputs": [
        {
          "output_type": "stream",
          "name": "stdout",
          "text": [
            "{'cats': 0, 'dogs': 1}\n"
          ]
        }
      ],
      "source": [
        "print (train_generator.class_indices)\n",
        "\n",
        "labels = '\\n'.join(sorted(train_generator.class_indices.keys()))\n",
        "\n",
        "with open('catdogs_labels.txt', 'w') as f:\n",
        "  f.write(labels)"
      ]
    },
    {
      "cell_type": "code",
      "execution_count": 7,
      "metadata": {
        "colab": {
          "base_uri": "https://localhost:8080/"
        },
        "id": "duxD_UDSOmng",
        "outputId": "0e79fc9a-b296-4175-ba9c-009145cc4897"
      },
      "outputs": [
        {
          "output_type": "stream",
          "name": "stdout",
          "text": [
            "cats\n",
            "dogs"
          ]
        }
      ],
      "source": [
        "!cat catdogs_labels.txt"
      ]
    },
    {
      "cell_type": "markdown",
      "metadata": {
        "id": "OkH-kazQecHB"
      },
      "source": [
        "## Bangun model\n",
        "\n",
        "Sekarang, kita akan membangun model yang dirancang untuk pembelajaran transfer khususnya pada lapisan akhir yang terhubung sepenuhnya.\n",
        "\n",
        "Dimulai dengan MobileNet V2 Keras sebagai model dasar, yang awalnya dilatih terlebih dahulu pada kumpulan data ImageNet (mencakup pelatihan untuk pengenalan 1.000 kelas). Ini memberi kita ekstraktor fitur yang sangat baik untuk klasifikasi gambar, yang memungkinkan kita untuk kemudian melatih lapisan klasifikasi baru yang disesuaikan dengan kumpulan data bunga kita."
      ]
    },
    {
      "cell_type": "code",
      "execution_count": 8,
      "metadata": {
        "colab": {
          "base_uri": "https://localhost:8080/"
        },
        "id": "19IQ2gqneqmS",
        "outputId": "756caa21-bbef-4802-ab9a-0a6a2d51070f"
      },
      "outputs": [
        {
          "output_type": "stream",
          "name": "stdout",
          "text": [
            "Downloading data from https://storage.googleapis.com/tensorflow/keras-applications/mobilenet_v2/mobilenet_v2_weights_tf_dim_ordering_tf_kernels_1.0_224_no_top.h5\n",
            "\u001b[1m9406464/9406464\u001b[0m \u001b[32m━━━━━━━━━━━━━━━━━━━━\u001b[0m\u001b[37m\u001b[0m \u001b[1m0s\u001b[0m 0us/step\n"
          ]
        }
      ],
      "source": [
        "IMG_SHAPE = (IMAGE_SIZE, IMAGE_SIZE, 3)\n",
        "\n",
        "# Membuat model dasar dari MobileNet V2 yang telah dilatih sebelumnya\n",
        "base_model = tf.keras.applications.MobileNetV2(input_shape=IMG_SHAPE,\n",
        "                                              include_top=False,\n",
        "                                              weights='imagenet')\n",
        "base_model.trainable = False"
      ]
    },
    {
      "cell_type": "code",
      "execution_count": 9,
      "metadata": {
        "id": "eApvroIyn1K0"
      },
      "outputs": [],
      "source": [
        "model = tf.keras.Sequential([\n",
        "  base_model,\n",
        "  tf.keras.layers.Conv2D(filters=32, kernel_size=3, activation='relu'),\n",
        "  tf.keras.layers.Dropout(0.2),\n",
        "  tf.keras.layers.GlobalAveragePooling2D(),\n",
        "  tf.keras.layers.Dense(units=2, activation='softmax')\n",
        "])"
      ]
    },
    {
      "cell_type": "markdown",
      "metadata": {
        "id": "g0ylJXE_kRLi"
      },
      "source": [
        "### Konfigurasi model\n",
        "\n",
        "Meskipun metode ini disebut `compile()`, ini pada dasarnya adalah langkah konfigurasi yang diperlukan sebelum kita dapat memulai pelatihan.\n"
      ]
    },
    {
      "cell_type": "code",
      "execution_count": 10,
      "metadata": {
        "id": "RpR8HdyMhukJ"
      },
      "outputs": [],
      "source": [
        "model.compile(optimizer='adam',\n",
        "              loss='categorical_crossentropy',\n",
        "              metrics=['accuracy'])"
      ]
    },
    {
      "cell_type": "code",
      "execution_count": 11,
      "metadata": {
        "colab": {
          "base_uri": "https://localhost:8080/",
          "height": 305
        },
        "id": "I8ARiyMFsgbH",
        "outputId": "9acaa84c-1ee1-4bfd-ae84-709c2795e46a"
      },
      "outputs": [
        {
          "output_type": "display_data",
          "data": {
            "text/plain": [
              "\u001b[1mModel: \"sequential\"\u001b[0m\n"
            ],
            "text/html": [
              "<pre style=\"white-space:pre;overflow-x:auto;line-height:normal;font-family:Menlo,'DejaVu Sans Mono',consolas,'Courier New',monospace\"><span style=\"font-weight: bold\">Model: \"sequential\"</span>\n",
              "</pre>\n"
            ]
          },
          "metadata": {}
        },
        {
          "output_type": "display_data",
          "data": {
            "text/plain": [
              "┏━━━━━━━━━━━━━━━━━━━━━━━━━━━━━━━━━━━━━━┳━━━━━━━━━━━━━━━━━━━━━━━━━━━━━┳━━━━━━━━━━━━━━━━━┓\n",
              "┃\u001b[1m \u001b[0m\u001b[1mLayer (type)                        \u001b[0m\u001b[1m \u001b[0m┃\u001b[1m \u001b[0m\u001b[1mOutput Shape               \u001b[0m\u001b[1m \u001b[0m┃\u001b[1m \u001b[0m\u001b[1m        Param #\u001b[0m\u001b[1m \u001b[0m┃\n",
              "┡━━━━━━━━━━━━━━━━━━━━━━━━━━━━━━━━━━━━━━╇━━━━━━━━━━━━━━━━━━━━━━━━━━━━━╇━━━━━━━━━━━━━━━━━┩\n",
              "│ mobilenetv2_1.00_224 (\u001b[38;5;33mFunctional\u001b[0m)    │ (\u001b[38;5;45mNone\u001b[0m, \u001b[38;5;34m7\u001b[0m, \u001b[38;5;34m7\u001b[0m, \u001b[38;5;34m1280\u001b[0m)          │       \u001b[38;5;34m2,257,984\u001b[0m │\n",
              "├──────────────────────────────────────┼─────────────────────────────┼─────────────────┤\n",
              "│ conv2d (\u001b[38;5;33mConv2D\u001b[0m)                      │ (\u001b[38;5;45mNone\u001b[0m, \u001b[38;5;34m5\u001b[0m, \u001b[38;5;34m5\u001b[0m, \u001b[38;5;34m32\u001b[0m)            │         \u001b[38;5;34m368,672\u001b[0m │\n",
              "├──────────────────────────────────────┼─────────────────────────────┼─────────────────┤\n",
              "│ dropout (\u001b[38;5;33mDropout\u001b[0m)                    │ (\u001b[38;5;45mNone\u001b[0m, \u001b[38;5;34m5\u001b[0m, \u001b[38;5;34m5\u001b[0m, \u001b[38;5;34m32\u001b[0m)            │               \u001b[38;5;34m0\u001b[0m │\n",
              "├──────────────────────────────────────┼─────────────────────────────┼─────────────────┤\n",
              "│ global_average_pooling2d             │ (\u001b[38;5;45mNone\u001b[0m, \u001b[38;5;34m32\u001b[0m)                  │               \u001b[38;5;34m0\u001b[0m │\n",
              "│ (\u001b[38;5;33mGlobalAveragePooling2D\u001b[0m)             │                             │                 │\n",
              "├──────────────────────────────────────┼─────────────────────────────┼─────────────────┤\n",
              "│ dense (\u001b[38;5;33mDense\u001b[0m)                        │ (\u001b[38;5;45mNone\u001b[0m, \u001b[38;5;34m2\u001b[0m)                   │              \u001b[38;5;34m66\u001b[0m │\n",
              "└──────────────────────────────────────┴─────────────────────────────┴─────────────────┘\n"
            ],
            "text/html": [
              "<pre style=\"white-space:pre;overflow-x:auto;line-height:normal;font-family:Menlo,'DejaVu Sans Mono',consolas,'Courier New',monospace\">┏━━━━━━━━━━━━━━━━━━━━━━━━━━━━━━━━━━━━━━┳━━━━━━━━━━━━━━━━━━━━━━━━━━━━━┳━━━━━━━━━━━━━━━━━┓\n",
              "┃<span style=\"font-weight: bold\"> Layer (type)                         </span>┃<span style=\"font-weight: bold\"> Output Shape                </span>┃<span style=\"font-weight: bold\">         Param # </span>┃\n",
              "┡━━━━━━━━━━━━━━━━━━━━━━━━━━━━━━━━━━━━━━╇━━━━━━━━━━━━━━━━━━━━━━━━━━━━━╇━━━━━━━━━━━━━━━━━┩\n",
              "│ mobilenetv2_1.00_224 (<span style=\"color: #0087ff; text-decoration-color: #0087ff\">Functional</span>)    │ (<span style=\"color: #00d7ff; text-decoration-color: #00d7ff\">None</span>, <span style=\"color: #00af00; text-decoration-color: #00af00\">7</span>, <span style=\"color: #00af00; text-decoration-color: #00af00\">7</span>, <span style=\"color: #00af00; text-decoration-color: #00af00\">1280</span>)          │       <span style=\"color: #00af00; text-decoration-color: #00af00\">2,257,984</span> │\n",
              "├──────────────────────────────────────┼─────────────────────────────┼─────────────────┤\n",
              "│ conv2d (<span style=\"color: #0087ff; text-decoration-color: #0087ff\">Conv2D</span>)                      │ (<span style=\"color: #00d7ff; text-decoration-color: #00d7ff\">None</span>, <span style=\"color: #00af00; text-decoration-color: #00af00\">5</span>, <span style=\"color: #00af00; text-decoration-color: #00af00\">5</span>, <span style=\"color: #00af00; text-decoration-color: #00af00\">32</span>)            │         <span style=\"color: #00af00; text-decoration-color: #00af00\">368,672</span> │\n",
              "├──────────────────────────────────────┼─────────────────────────────┼─────────────────┤\n",
              "│ dropout (<span style=\"color: #0087ff; text-decoration-color: #0087ff\">Dropout</span>)                    │ (<span style=\"color: #00d7ff; text-decoration-color: #00d7ff\">None</span>, <span style=\"color: #00af00; text-decoration-color: #00af00\">5</span>, <span style=\"color: #00af00; text-decoration-color: #00af00\">5</span>, <span style=\"color: #00af00; text-decoration-color: #00af00\">32</span>)            │               <span style=\"color: #00af00; text-decoration-color: #00af00\">0</span> │\n",
              "├──────────────────────────────────────┼─────────────────────────────┼─────────────────┤\n",
              "│ global_average_pooling2d             │ (<span style=\"color: #00d7ff; text-decoration-color: #00d7ff\">None</span>, <span style=\"color: #00af00; text-decoration-color: #00af00\">32</span>)                  │               <span style=\"color: #00af00; text-decoration-color: #00af00\">0</span> │\n",
              "│ (<span style=\"color: #0087ff; text-decoration-color: #0087ff\">GlobalAveragePooling2D</span>)             │                             │                 │\n",
              "├──────────────────────────────────────┼─────────────────────────────┼─────────────────┤\n",
              "│ dense (<span style=\"color: #0087ff; text-decoration-color: #0087ff\">Dense</span>)                        │ (<span style=\"color: #00d7ff; text-decoration-color: #00d7ff\">None</span>, <span style=\"color: #00af00; text-decoration-color: #00af00\">2</span>)                   │              <span style=\"color: #00af00; text-decoration-color: #00af00\">66</span> │\n",
              "└──────────────────────────────────────┴─────────────────────────────┴─────────────────┘\n",
              "</pre>\n"
            ]
          },
          "metadata": {}
        },
        {
          "output_type": "display_data",
          "data": {
            "text/plain": [
              "\u001b[1m Total params: \u001b[0m\u001b[38;5;34m2,626,722\u001b[0m (10.02 MB)\n"
            ],
            "text/html": [
              "<pre style=\"white-space:pre;overflow-x:auto;line-height:normal;font-family:Menlo,'DejaVu Sans Mono',consolas,'Courier New',monospace\"><span style=\"font-weight: bold\"> Total params: </span><span style=\"color: #00af00; text-decoration-color: #00af00\">2,626,722</span> (10.02 MB)\n",
              "</pre>\n"
            ]
          },
          "metadata": {}
        },
        {
          "output_type": "display_data",
          "data": {
            "text/plain": [
              "\u001b[1m Trainable params: \u001b[0m\u001b[38;5;34m368,738\u001b[0m (1.41 MB)\n"
            ],
            "text/html": [
              "<pre style=\"white-space:pre;overflow-x:auto;line-height:normal;font-family:Menlo,'DejaVu Sans Mono',consolas,'Courier New',monospace\"><span style=\"font-weight: bold\"> Trainable params: </span><span style=\"color: #00af00; text-decoration-color: #00af00\">368,738</span> (1.41 MB)\n",
              "</pre>\n"
            ]
          },
          "metadata": {}
        },
        {
          "output_type": "display_data",
          "data": {
            "text/plain": [
              "\u001b[1m Non-trainable params: \u001b[0m\u001b[38;5;34m2,257,984\u001b[0m (8.61 MB)\n"
            ],
            "text/html": [
              "<pre style=\"white-space:pre;overflow-x:auto;line-height:normal;font-family:Menlo,'DejaVu Sans Mono',consolas,'Courier New',monospace\"><span style=\"font-weight: bold\"> Non-trainable params: </span><span style=\"color: #00af00; text-decoration-color: #00af00\">2,257,984</span> (8.61 MB)\n",
              "</pre>\n"
            ]
          },
          "metadata": {}
        }
      ],
      "source": [
        "model.summary()"
      ]
    },
    {
      "cell_type": "code",
      "execution_count": 12,
      "metadata": {
        "colab": {
          "base_uri": "https://localhost:8080/"
        },
        "id": "krvBumovycVA",
        "outputId": "76f9a64f-0576-4596-c296-d162cfdc4634"
      },
      "outputs": [
        {
          "output_type": "stream",
          "name": "stdout",
          "text": [
            "Number of trainable weights = 4\n"
          ]
        }
      ],
      "source": [
        "print('Number of trainable weights = {}'.format(len(model.trainable_weights)))"
      ]
    },
    {
      "cell_type": "markdown",
      "metadata": {
        "id": "RxvgOYTDSWTx"
      },
      "source": [
        "## Melatih model"
      ]
    },
    {
      "cell_type": "markdown",
      "metadata": {
        "id": "kBRNaOCCoA-P"
      },
      "source": [
        "Sekarang kita dapat melatih model menggunakan data yang disediakan oleh `train_generator` dan `val_generator` yang telah kita buat sebelumnya.  \n",
        "\n",
        "Proses ini seharusnya memakan waktu kurang dari 10 menit."
      ]
    },
    {
      "cell_type": "code",
      "execution_count": 13,
      "metadata": {
        "colab": {
          "base_uri": "https://localhost:8080/"
        },
        "id": "JsaRFlZ9B6WK",
        "outputId": "324a4e6b-f3ea-4105-9a34-90099f123ac6"
      },
      "outputs": [
        {
          "output_type": "stream",
          "name": "stdout",
          "text": [
            "Epoch 1/10\n"
          ]
        },
        {
          "output_type": "stream",
          "name": "stderr",
          "text": [
            "/usr/local/lib/python3.10/dist-packages/keras/src/trainers/data_adapters/py_dataset_adapter.py:122: UserWarning: Your `PyDataset` class should call `super().__init__(**kwargs)` in its constructor. `**kwargs` can include `workers`, `use_multiprocessing`, `max_queue_size`. Do not pass these arguments to `fit()`, as they will be ignored.\n",
            "  self._warn_if_super_not_called()\n"
          ]
        },
        {
          "output_type": "stream",
          "name": "stdout",
          "text": [
            "\u001b[1m32/32\u001b[0m \u001b[32m━━━━━━━━━━━━━━━━━━━━\u001b[0m\u001b[37m\u001b[0m \u001b[1m37s\u001b[0m 652ms/step - accuracy: 0.6449 - loss: 1.8163 - val_accuracy: 0.9350 - val_loss: 0.4100\n",
            "Epoch 2/10\n"
          ]
        },
        {
          "output_type": "stream",
          "name": "stderr",
          "text": [
            "/usr/lib/python3.10/contextlib.py:153: UserWarning: Your input ran out of data; interrupting training. Make sure that your dataset or generator can generate at least `steps_per_epoch * epochs` batches. You may need to use the `.repeat()` function when building your dataset.\n",
            "  self.gen.throw(typ, value, traceback)\n"
          ]
        },
        {
          "output_type": "stream",
          "name": "stdout",
          "text": [
            "\r\u001b[1m32/32\u001b[0m \u001b[32m━━━━━━━━━━━━━━━━━━━━\u001b[0m\u001b[37m\u001b[0m \u001b[1m1s\u001b[0m 27ms/step - accuracy: 0.0000e+00 - loss: 0.0000e+00\n",
            "Epoch 3/10\n",
            "\u001b[1m32/32\u001b[0m \u001b[32m━━━━━━━━━━━━━━━━━━━━\u001b[0m\u001b[37m\u001b[0m \u001b[1m8s\u001b[0m 215ms/step - accuracy: 0.8904 - loss: 0.4155 - val_accuracy: 0.9640 - val_loss: 0.3747\n",
            "Epoch 4/10\n",
            "\u001b[1m32/32\u001b[0m \u001b[32m━━━━━━━━━━━━━━━━━━━━\u001b[0m\u001b[37m\u001b[0m \u001b[1m0s\u001b[0m 3ms/step - accuracy: 0.0000e+00 - loss: 0.0000e+00\n",
            "Epoch 5/10\n",
            "\u001b[1m32/32\u001b[0m \u001b[32m━━━━━━━━━━━━━━━━━━━━\u001b[0m\u001b[37m\u001b[0m \u001b[1m10s\u001b[0m 206ms/step - accuracy: 0.9484 - loss: 0.3843 - val_accuracy: 0.9700 - val_loss: 0.3516\n",
            "Epoch 6/10\n",
            "\u001b[1m32/32\u001b[0m \u001b[32m━━━━━━━━━━━━━━━━━━━━\u001b[0m\u001b[37m\u001b[0m \u001b[1m0s\u001b[0m 578us/step - accuracy: 0.0000e+00 - loss: 0.0000e+00\n",
            "Epoch 7/10\n",
            "\u001b[1m32/32\u001b[0m \u001b[32m━━━━━━━━━━━━━━━━━━━━\u001b[0m\u001b[37m\u001b[0m \u001b[1m11s\u001b[0m 210ms/step - accuracy: 0.9693 - loss: 0.3414 - val_accuracy: 0.9750 - val_loss: 0.3340\n",
            "Epoch 8/10\n",
            "\u001b[1m32/32\u001b[0m \u001b[32m━━━━━━━━━━━━━━━━━━━━\u001b[0m\u001b[37m\u001b[0m \u001b[1m0s\u001b[0m 493us/step - accuracy: 0.0000e+00 - loss: 0.0000e+00\n",
            "Epoch 9/10\n",
            "\u001b[1m32/32\u001b[0m \u001b[32m━━━━━━━━━━━━━━━━━━━━\u001b[0m\u001b[37m\u001b[0m \u001b[1m10s\u001b[0m 283ms/step - accuracy: 0.9845 - loss: 0.3313 - val_accuracy: 0.9780 - val_loss: 0.3174\n",
            "Epoch 10/10\n",
            "\u001b[1m32/32\u001b[0m \u001b[32m━━━━━━━━━━━━━━━━━━━━\u001b[0m\u001b[37m\u001b[0m \u001b[1m0s\u001b[0m 555us/step - accuracy: 0.0000e+00 - loss: 0.0000e+00\n"
          ]
        }
      ],
      "source": [
        "history = model.fit(train_generator,\n",
        "                    steps_per_epoch=len(train_generator),\n",
        "                    epochs=10,\n",
        "                    validation_data=val_generator,\n",
        "                    validation_steps=len(val_generator))"
      ]
    },
    {
      "cell_type": "markdown",
      "metadata": {
        "id": "Hd94CKImf8vi"
      },
      "source": [
        "### Plot"
      ]
    },
    {
      "cell_type": "code",
      "execution_count": 14,
      "metadata": {
        "colab": {
          "base_uri": "https://localhost:8080/",
          "height": 718
        },
        "id": "53OTCh3jnbwV",
        "outputId": "3eec7c12-92ab-43c5-e826-143fda512384"
      },
      "outputs": [
        {
          "output_type": "display_data",
          "data": {
            "text/plain": [
              "<Figure size 800x800 with 2 Axes>"
            ],
            "image/png": "[encoded data removed]"
          },
          "metadata": {}
        }
      ],
      "source": [
        "acc = history.history['accuracy']\n",
        "val_acc = history.history['val_accuracy']\n",
        "\n",
        "loss = history.history['loss']\n",
        "val_loss = history.history['val_loss']\n",
        "\n",
        "plt.figure(figsize=(8, 8))\n",
        "plt.subplot(2, 1, 1)\n",
        "plt.plot(acc, label='Training Accuracy')\n",
        "plt.plot(val_acc, label='Validation Accuracy')\n",
        "plt.legend(loc='lower right')\n",
        "plt.ylabel('Accuracy')\n",
        "plt.ylim([min(plt.ylim()),1])\n",
        "plt.title('Training and Validation Accuracy')\n",
        "\n",
        "plt.subplot(2, 1, 2)\n",
        "plt.plot(loss, label='Training Loss')\n",
        "plt.plot(val_loss, label='Validation Loss')\n",
        "plt.legend(loc='upper right')\n",
        "plt.ylabel('Cross Entropy')\n",
        "plt.ylim([0,1.0])\n",
        "plt.title('Training and Validation Loss')\n",
        "plt.xlabel('epoch')\n",
        "plt.show()"
      ]
    },
    {
      "cell_type": "markdown",
      "metadata": {
        "id": "CqwV-CRdS6Nv"
      },
      "source": [
        "## Sempurnakan model dasar"
      ]
    },
    {
      "cell_type": "markdown",
      "metadata": {
        "id": "dBTEEnxv9X6J"
      },
      "source": [
        "Sejauh ini, pelatihan fokus pada lapisan klasifikasi, dan bobot dari jaringan yang telah dilatih sebelumnya tetap *tidak berubah*.\n",
        "\n",
        "Untuk meningkatkan akurasi, salah satu pendekatannya adalah dengan melatih atau \"fine-tuning\" lapisan tambahan dari model yang telah dilatih sebelumnya. Dengan kata lain, kita akan membuka kunci (unfreeze) lapisan-lapisan tertentu dari model dasar dan memodifikasi bobotnya, yang awalnya dilatih pada 1.000 kelas ImageNet, agar lebih sesuai dengan fitur-fitur yang ada pada dataset kucing & anjing kita."
      ]
    },
    {
      "cell_type": "markdown",
      "metadata": {
        "id": "CPXnzUK0QonF"
      },
      "source": [
        "### Buka pembekuan lebih banyak lapisan"
      ]
    },
    {
      "cell_type": "markdown",
      "metadata": {
        "id": "rfxv_ifotQak"
      },
      "source": [
        "Jadi, daripada membekukan seluruh model dasar, kita akan membekukan lapisan-lapisan individual.\n",
        "\n",
        "Pertama, mari kita lihat berapa banyak lapisan yang ada dalam model dasar:"
      ]
    },
    {
      "cell_type": "code",
      "execution_count": 15,
      "metadata": {
        "colab": {
          "base_uri": "https://localhost:8080/"
        },
        "id": "4nzcagVitLQm",
        "outputId": "d61fc6eb-b3c9-4e07-b416-1a497723d606"
      },
      "outputs": [
        {
          "output_type": "stream",
          "name": "stdout",
          "text": [
            "Number of layers in the base model:  154\n"
          ]
        }
      ],
      "source": [
        "print(\"Number of layers in the base model: \", len(base_model.layers))"
      ]
    },
    {
      "cell_type": "markdown",
      "metadata": {
        "id": "dGcXdaQqASlC"
      },
      "source": [
        "Mari kita coba bekukan hanya 100 lapisan terbawah."
      ]
    },
    {
      "cell_type": "code",
      "execution_count": 16,
      "metadata": {
        "id": "-4HgVAacRs5v"
      },
      "outputs": [],
      "source": [
        "base_model.trainable = True\n",
        "fine_tune_at = 100\n",
        "\n",
        "# Bekukan semua lapisan sebelum lapisan `fine_tune_at`\n",
        "for layer in base_model.layers[:fine_tune_at]:\n",
        "  layer.trainable = False"
      ]
    },
    {
      "cell_type": "markdown",
      "metadata": {
        "id": "4Uk1dgsxT0IS"
      },
      "source": [
        "### Konfigurasikan ulang model\n",
        "\n",
        "Sekarang konfigurasikan model lagi, tetapi kali ini dengan tingkat pembelajaran yang lebih rendah (nilai default adalah 0,001)."
      ]
    },
    {
      "cell_type": "code",
      "execution_count": 17,
      "metadata": {
        "id": "NtUnaz0WUDva"
      },
      "outputs": [],
      "source": [
        "model.compile(optimizer=tf.keras.optimizers.Adam(1e-5),\n",
        "              loss='categorical_crossentropy',\n",
        "              metrics=['accuracy'])"
      ]
    },
    {
      "cell_type": "code",
      "execution_count": 18,
      "metadata": {
        "colab": {
          "base_uri": "https://localhost:8080/",
          "height": 305
        },
        "id": "WwBWy7J2kZvA",
        "outputId": "8ab24f3e-5af0-4d4f-daa3-69cded1edcf5"
      },
      "outputs": [
        {
          "output_type": "display_data",
          "data": {
            "text/plain": [
              "\u001b[1mModel: \"sequential\"\u001b[0m\n"
            ],
            "text/html": [
              "<pre style=\"white-space:pre;overflow-x:auto;line-height:normal;font-family:Menlo,'DejaVu Sans Mono',consolas,'Courier New',monospace\"><span style=\"font-weight: bold\">Model: \"sequential\"</span>\n",
              "</pre>\n"
            ]
          },
          "metadata": {}
        },
        {
          "output_type": "display_data",
          "data": {
            "text/plain": [
              "┏━━━━━━━━━━━━━━━━━━━━━━━━━━━━━━━━━━━━━━┳━━━━━━━━━━━━━━━━━━━━━━━━━━━━━┳━━━━━━━━━━━━━━━━━┓\n",
              "┃\u001b[1m \u001b[0m\u001b[1mLayer (type)                        \u001b[0m\u001b[1m \u001b[0m┃\u001b[1m \u001b[0m\u001b[1mOutput Shape               \u001b[0m\u001b[1m \u001b[0m┃\u001b[1m \u001b[0m\u001b[1m        Param #\u001b[0m\u001b[1m \u001b[0m┃\n",
              "┡━━━━━━━━━━━━━━━━━━━━━━━━━━━━━━━━━━━━━━╇━━━━━━━━━━━━━━━━━━━━━━━━━━━━━╇━━━━━━━━━━━━━━━━━┩\n",
              "│ mobilenetv2_1.00_224 (\u001b[38;5;33mFunctional\u001b[0m)    │ (\u001b[38;5;45mNone\u001b[0m, \u001b[38;5;34m7\u001b[0m, \u001b[38;5;34m7\u001b[0m, \u001b[38;5;34m1280\u001b[0m)          │       \u001b[38;5;34m2,257,984\u001b[0m │\n",
              "├──────────────────────────────────────┼─────────────────────────────┼─────────────────┤\n",
              "│ conv2d (\u001b[38;5;33mConv2D\u001b[0m)                      │ (\u001b[38;5;45mNone\u001b[0m, \u001b[38;5;34m5\u001b[0m, \u001b[38;5;34m5\u001b[0m, \u001b[38;5;34m32\u001b[0m)            │         \u001b[38;5;34m368,672\u001b[0m │\n",
              "├──────────────────────────────────────┼─────────────────────────────┼─────────────────┤\n",
              "│ dropout (\u001b[38;5;33mDropout\u001b[0m)                    │ (\u001b[38;5;45mNone\u001b[0m, \u001b[38;5;34m5\u001b[0m, \u001b[38;5;34m5\u001b[0m, \u001b[38;5;34m32\u001b[0m)            │               \u001b[38;5;34m0\u001b[0m │\n",
              "├──────────────────────────────────────┼─────────────────────────────┼─────────────────┤\n",
              "│ global_average_pooling2d             │ (\u001b[38;5;45mNone\u001b[0m, \u001b[38;5;34m32\u001b[0m)                  │               \u001b[38;5;34m0\u001b[0m │\n",
              "│ (\u001b[38;5;33mGlobalAveragePooling2D\u001b[0m)             │                             │                 │\n",
              "├──────────────────────────────────────┼─────────────────────────────┼─────────────────┤\n",
              "│ dense (\u001b[38;5;33mDense\u001b[0m)                        │ (\u001b[38;5;45mNone\u001b[0m, \u001b[38;5;34m2\u001b[0m)                   │              \u001b[38;5;34m66\u001b[0m │\n",
              "└──────────────────────────────────────┴─────────────────────────────┴─────────────────┘\n"
            ],
            "text/html": [
              "<pre style=\"white-space:pre;overflow-x:auto;line-height:normal;font-family:Menlo,'DejaVu Sans Mono',consolas,'Courier New',monospace\">┏━━━━━━━━━━━━━━━━━━━━━━━━━━━━━━━━━━━━━━┳━━━━━━━━━━━━━━━━━━━━━━━━━━━━━┳━━━━━━━━━━━━━━━━━┓\n",
              "┃<span style=\"font-weight: bold\"> Layer (type)                         </span>┃<span style=\"font-weight: bold\"> Output Shape                </span>┃<span style=\"font-weight: bold\">         Param # </span>┃\n",
              "┡━━━━━━━━━━━━━━━━━━━━━━━━━━━━━━━━━━━━━━╇━━━━━━━━━━━━━━━━━━━━━━━━━━━━━╇━━━━━━━━━━━━━━━━━┩\n",
              "│ mobilenetv2_1.00_224 (<span style=\"color: #0087ff; text-decoration-color: #0087ff\">Functional</span>)    │ (<span style=\"color: #00d7ff; text-decoration-color: #00d7ff\">None</span>, <span style=\"color: #00af00; text-decoration-color: #00af00\">7</span>, <span style=\"color: #00af00; text-decoration-color: #00af00\">7</span>, <span style=\"color: #00af00; text-decoration-color: #00af00\">1280</span>)          │       <span style=\"color: #00af00; text-decoration-color: #00af00\">2,257,984</span> │\n",
              "├──────────────────────────────────────┼─────────────────────────────┼─────────────────┤\n",
              "│ conv2d (<span style=\"color: #0087ff; text-decoration-color: #0087ff\">Conv2D</span>)                      │ (<span style=\"color: #00d7ff; text-decoration-color: #00d7ff\">None</span>, <span style=\"color: #00af00; text-decoration-color: #00af00\">5</span>, <span style=\"color: #00af00; text-decoration-color: #00af00\">5</span>, <span style=\"color: #00af00; text-decoration-color: #00af00\">32</span>)            │         <span style=\"color: #00af00; text-decoration-color: #00af00\">368,672</span> │\n",
              "├──────────────────────────────────────┼─────────────────────────────┼─────────────────┤\n",
              "│ dropout (<span style=\"color: #0087ff; text-decoration-color: #0087ff\">Dropout</span>)                    │ (<span style=\"color: #00d7ff; text-decoration-color: #00d7ff\">None</span>, <span style=\"color: #00af00; text-decoration-color: #00af00\">5</span>, <span style=\"color: #00af00; text-decoration-color: #00af00\">5</span>, <span style=\"color: #00af00; text-decoration-color: #00af00\">32</span>)            │               <span style=\"color: #00af00; text-decoration-color: #00af00\">0</span> │\n",
              "├──────────────────────────────────────┼─────────────────────────────┼─────────────────┤\n",
              "│ global_average_pooling2d             │ (<span style=\"color: #00d7ff; text-decoration-color: #00d7ff\">None</span>, <span style=\"color: #00af00; text-decoration-color: #00af00\">32</span>)                  │               <span style=\"color: #00af00; text-decoration-color: #00af00\">0</span> │\n",
              "│ (<span style=\"color: #0087ff; text-decoration-color: #0087ff\">GlobalAveragePooling2D</span>)             │                             │                 │\n",
              "├──────────────────────────────────────┼─────────────────────────────┼─────────────────┤\n",
              "│ dense (<span style=\"color: #0087ff; text-decoration-color: #0087ff\">Dense</span>)                        │ (<span style=\"color: #00d7ff; text-decoration-color: #00d7ff\">None</span>, <span style=\"color: #00af00; text-decoration-color: #00af00\">2</span>)                   │              <span style=\"color: #00af00; text-decoration-color: #00af00\">66</span> │\n",
              "└──────────────────────────────────────┴─────────────────────────────┴─────────────────┘\n",
              "</pre>\n"
            ]
          },
          "metadata": {}
        },
        {
          "output_type": "display_data",
          "data": {
            "text/plain": [
              "\u001b[1m Total params: \u001b[0m\u001b[38;5;34m2,626,722\u001b[0m (10.02 MB)\n"
            ],
            "text/html": [
              "<pre style=\"white-space:pre;overflow-x:auto;line-height:normal;font-family:Menlo,'DejaVu Sans Mono',consolas,'Courier New',monospace\"><span style=\"font-weight: bold\"> Total params: </span><span style=\"color: #00af00; text-decoration-color: #00af00\">2,626,722</span> (10.02 MB)\n",
              "</pre>\n"
            ]
          },
          "metadata": {}
        },
        {
          "output_type": "display_data",
          "data": {
            "text/plain": [
              "\u001b[1m Trainable params: \u001b[0m\u001b[38;5;34m2,230,178\u001b[0m (8.51 MB)\n"
            ],
            "text/html": [
              "<pre style=\"white-space:pre;overflow-x:auto;line-height:normal;font-family:Menlo,'DejaVu Sans Mono',consolas,'Courier New',monospace\"><span style=\"font-weight: bold\"> Trainable params: </span><span style=\"color: #00af00; text-decoration-color: #00af00\">2,230,178</span> (8.51 MB)\n",
              "</pre>\n"
            ]
          },
          "metadata": {}
        },
        {
          "output_type": "display_data",
          "data": {
            "text/plain": [
              "\u001b[1m Non-trainable params: \u001b[0m\u001b[38;5;34m396,544\u001b[0m (1.51 MB)\n"
            ],
            "text/html": [
              "<pre style=\"white-space:pre;overflow-x:auto;line-height:normal;font-family:Menlo,'DejaVu Sans Mono',consolas,'Courier New',monospace\"><span style=\"font-weight: bold\"> Non-trainable params: </span><span style=\"color: #00af00; text-decoration-color: #00af00\">396,544</span> (1.51 MB)\n",
              "</pre>\n"
            ]
          },
          "metadata": {}
        }
      ],
      "source": [
        "model.summary()"
      ]
    },
    {
      "cell_type": "code",
      "execution_count": 19,
      "metadata": {
        "colab": {
          "base_uri": "https://localhost:8080/"
        },
        "id": "bNXelbMQtonr",
        "outputId": "537cf049-df3d-4b82-83b6-5e67ddd8f931"
      },
      "outputs": [
        {
          "output_type": "stream",
          "name": "stdout",
          "text": [
            "Number of trainable weights = 58\n"
          ]
        }
      ],
      "source": [
        "print('Number of trainable weights = {}'.format(len(model.trainable_weights)))"
      ]
    },
    {
      "cell_type": "markdown",
      "metadata": {
        "id": "4G5O4jd6TuAG"
      },
      "source": [
        "### Lanjutkan pelatihan"
      ]
    },
    {
      "cell_type": "markdown",
      "metadata": {
        "id": "bppmJTmDpXtK"
      },
      "source": [
        "Sekarang mari kita sempurnakan semua lapisan yang dapat dilatih. Ini dimulai dengan bobot yang telah kita latih di lapisan klasifikasi, jadi kita tidak memerlukan banyak periode."
      ]
    },
    {
      "cell_type": "code",
      "execution_count": 20,
      "metadata": {
        "colab": {
          "base_uri": "https://localhost:8080/"
        },
        "id": "PiXbLb1O8IDy",
        "outputId": "e1dc23a7-692d-4048-d053-80a001461b94"
      },
      "outputs": [
        {
          "output_type": "stream",
          "name": "stdout",
          "text": [
            "Epoch 1/5\n",
            "\u001b[1m32/32\u001b[0m \u001b[32m━━━━━━━━━━━━━━━━━━━━\u001b[0m\u001b[37m\u001b[0m \u001b[1m42s\u001b[0m 636ms/step - accuracy: 0.7421 - loss: 0.5584 - val_accuracy: 0.9760 - val_loss: 0.3171\n",
            "Epoch 2/5\n",
            "\u001b[1m32/32\u001b[0m \u001b[32m━━━━━━━━━━━━━━━━━━━━\u001b[0m\u001b[37m\u001b[0m \u001b[1m5s\u001b[0m 160ms/step - accuracy: 0.0000e+00 - loss: 0.0000e+00\n",
            "Epoch 3/5\n",
            "\u001b[1m32/32\u001b[0m \u001b[32m━━━━━━━━━━━━━━━━━━━━\u001b[0m\u001b[37m\u001b[0m \u001b[1m8s\u001b[0m 220ms/step - accuracy: 0.8998 - loss: 0.3556 - val_accuracy: 0.9710 - val_loss: 0.3194\n",
            "Epoch 4/5\n",
            "\u001b[1m32/32\u001b[0m \u001b[32m━━━━━━━━━━━━━━━━━━━━\u001b[0m\u001b[37m\u001b[0m \u001b[1m0s\u001b[0m 628us/step - accuracy: 0.0000e+00 - loss: 0.0000e+00\n",
            "Epoch 5/5\n",
            "\u001b[1m32/32\u001b[0m \u001b[32m━━━━━━━━━━━━━━━━━━━━\u001b[0m\u001b[37m\u001b[0m \u001b[1m9s\u001b[0m 250ms/step - accuracy: 0.9431 - loss: 0.3380 - val_accuracy: 0.9680 - val_loss: 0.3212\n"
          ]
        }
      ],
      "source": [
        "history_fine = model.fit(train_generator,\n",
        "                         steps_per_epoch=len(train_generator),\n",
        "                         epochs=5,\n",
        "                         validation_data=val_generator,\n",
        "                         validation_steps=len(val_generator))"
      ]
    },
    {
      "cell_type": "markdown",
      "metadata": {
        "id": "xqIjZvhBBJNn"
      },
      "source": [
        "### Plot Baru"
      ]
    },
    {
      "cell_type": "code",
      "execution_count": 21,
      "metadata": {
        "colab": {
          "base_uri": "https://localhost:8080/",
          "height": 718
        },
        "id": "chW103JUItdk",
        "outputId": "dc2f5054-8fa5-4a4b-8b34-1aaa3778715d"
      },
      "outputs": [
        {
          "output_type": "display_data",
          "data": {
            "text/plain": [
              "<Figure size 800x800 with 2 Axes>"
            ],
            "image/png": "[encoded data removed]"
          },
          "metadata": {}
        }
      ],
      "source": [
        "acc = history_fine.history['accuracy']\n",
        "val_acc = history_fine.history['val_accuracy']\n",
        "\n",
        "loss = history_fine.history['loss']\n",
        "val_loss = history_fine.history['val_loss']\n",
        "\n",
        "plt.figure(figsize=(8, 8))\n",
        "plt.subplot(2, 1, 1)\n",
        "plt.plot(acc, label='Training Accuracy')\n",
        "plt.plot(val_acc, label='Validation Accuracy')\n",
        "plt.legend(loc='lower right')\n",
        "plt.ylabel('Accuracy')\n",
        "plt.ylim([min(plt.ylim()),1])\n",
        "plt.title('Training and Validation Accuracy')\n",
        "\n",
        "plt.subplot(2, 1, 2)\n",
        "plt.plot(loss, label='Training Loss')\n",
        "plt.plot(val_loss, label='Validation Loss')\n",
        "plt.legend(loc='upper right')\n",
        "plt.ylabel('Cross Entropy')\n",
        "plt.ylim([0,1.0])\n",
        "plt.title('Training and Validation Loss')\n",
        "plt.xlabel('epoch')\n",
        "plt.show()"
      ]
    },
    {
      "cell_type": "markdown",
      "metadata": {
        "id": "kRDabW_u1wnv"
      },
      "source": [
        "## Konversi ke TFLite"
      ]
    },
    {
      "cell_type": "markdown",
      "metadata": {
        "id": "hNvMl6CM6lG4"
      },
      "source": [
        "Biasanya, membuat model TensorFlow Lite hanya membutuhkan beberapa baris kode dengan [`TFLiteConverter`](https://www.tensorflow.org/api_docs/python/tf/lite/TFLiteConverter). Sebagai contoh, ini akan membuat model TensorFlow Lite dasar (tanpa kuantisasi):"
      ]
    },
    {
      "cell_type": "code",
      "execution_count": 22,
      "metadata": {
        "colab": {
          "base_uri": "https://localhost:8080/"
        },
        "id": "srOYhMYfx9XH",
        "outputId": "346c3711-d5e6-4230-dfe2-b1c3424f2072"
      },
      "outputs": [
        {
          "output_type": "stream",
          "name": "stdout",
          "text": [
            "Saved artifact at '/tmp/tmpuj3eq1c5'. The following endpoints are available:\n",
            "\n",
            "* Endpoint 'serve'\n",
            "  args_0 (POSITIONAL_ONLY): TensorSpec(shape=(None, 224, 224, 3), dtype=tf.float32, name='keras_tensor_154')\n",
            "Output Type:\n",
            "  TensorSpec(shape=(None, 2), dtype=tf.float32, name=None)\n",
            "Captures:\n",
            "  132919431590160: TensorSpec(shape=(), dtype=tf.resource, name=None)\n",
            "  132919430093056: TensorSpec(shape=(), dtype=tf.resource, name=None)\n",
            "  132919430087248: TensorSpec(shape=(), dtype=tf.resource, name=None)\n",
            "  132919431593504: TensorSpec(shape=(), dtype=tf.resource, name=None)\n",
            "  132919430091472: TensorSpec(shape=(), dtype=tf.resource, name=None)\n",
            "  132919431592448: TensorSpec(shape=(), dtype=tf.resource, name=None)\n",
            "  132919430099744: TensorSpec(shape=(), dtype=tf.resource, name=None)\n",
            "  132919430100800: TensorSpec(shape=(), dtype=tf.resource, name=None)\n",
            "  132919430096928: TensorSpec(shape=(), dtype=tf.resource, name=None)\n",
            "  132919430099568: TensorSpec(shape=(), dtype=tf.resource, name=None)\n",
            "  132921686368752: TensorSpec(shape=(), dtype=tf.resource, name=None)\n",
            "  132919430320496: TensorSpec(shape=(), dtype=tf.resource, name=None)\n",
            "  132919430320144: TensorSpec(shape=(), dtype=tf.resource, name=None)\n",
            "  132919430317680: TensorSpec(shape=(), dtype=tf.resource, name=None)\n",
            "  132919430320320: TensorSpec(shape=(), dtype=tf.resource, name=None)\n",
            "  132919430095168: TensorSpec(shape=(), dtype=tf.resource, name=None)\n",
            "  132919430325248: TensorSpec(shape=(), dtype=tf.resource, name=None)\n",
            "  132919430327712: TensorSpec(shape=(), dtype=tf.resource, name=None)\n",
            "  132919430323840: TensorSpec(shape=(), dtype=tf.resource, name=None)\n",
            "  132919430326480: TensorSpec(shape=(), dtype=tf.resource, name=None)\n",
            "  132919430331760: TensorSpec(shape=(), dtype=tf.resource, name=None)\n",
            "  132919430481344: TensorSpec(shape=(), dtype=tf.resource, name=None)\n",
            "  132919430480464: TensorSpec(shape=(), dtype=tf.resource, name=None)\n",
            "  132919430483632: TensorSpec(shape=(), dtype=tf.resource, name=None)\n",
            "  132919430483104: TensorSpec(shape=(), dtype=tf.resource, name=None)\n",
            "  132919430330528: TensorSpec(shape=(), dtype=tf.resource, name=None)\n",
            "  132919430489264: TensorSpec(shape=(), dtype=tf.resource, name=None)\n",
            "  132919430491728: TensorSpec(shape=(), dtype=tf.resource, name=None)\n",
            "  132919430487856: TensorSpec(shape=(), dtype=tf.resource, name=None)\n",
            "  132919430490496: TensorSpec(shape=(), dtype=tf.resource, name=None)\n",
            "  132919430480112: TensorSpec(shape=(), dtype=tf.resource, name=None)\n",
            "  132919430488208: TensorSpec(shape=(), dtype=tf.resource, name=None)\n",
            "  132919430489088: TensorSpec(shape=(), dtype=tf.resource, name=None)\n",
            "  132919430494368: TensorSpec(shape=(), dtype=tf.resource, name=None)\n",
            "  132919430513936: TensorSpec(shape=(), dtype=tf.resource, name=None)\n",
            "  132919430495424: TensorSpec(shape=(), dtype=tf.resource, name=None)\n",
            "  132919430519392: TensorSpec(shape=(), dtype=tf.resource, name=None)\n",
            "  132919430522032: TensorSpec(shape=(), dtype=tf.resource, name=None)\n",
            "  132919430517984: TensorSpec(shape=(), dtype=tf.resource, name=None)\n",
            "  132919430519920: TensorSpec(shape=(), dtype=tf.resource, name=None)\n",
            "  132919430528192: TensorSpec(shape=(), dtype=tf.resource, name=None)\n",
            "  132919430518336: TensorSpec(shape=(), dtype=tf.resource, name=None)\n",
            "  132919430523616: TensorSpec(shape=(), dtype=tf.resource, name=None)\n",
            "  132919430525376: TensorSpec(shape=(), dtype=tf.resource, name=None)\n",
            "  132919430526960: TensorSpec(shape=(), dtype=tf.resource, name=None)\n",
            "  132919430330704: TensorSpec(shape=(), dtype=tf.resource, name=None)\n",
            "  132919430634432: TensorSpec(shape=(), dtype=tf.resource, name=None)\n",
            "  132919430635488: TensorSpec(shape=(), dtype=tf.resource, name=None)\n",
            "  132919430631616: TensorSpec(shape=(), dtype=tf.resource, name=None)\n",
            "  132919430634256: TensorSpec(shape=(), dtype=tf.resource, name=None)\n",
            "  132919430642880: TensorSpec(shape=(), dtype=tf.resource, name=None)\n",
            "  132919430639360: TensorSpec(shape=(), dtype=tf.resource, name=None)\n",
            "  132919430639008: TensorSpec(shape=(), dtype=tf.resource, name=None)\n",
            "  132919430640064: TensorSpec(shape=(), dtype=tf.resource, name=None)\n",
            "  132919430643056: TensorSpec(shape=(), dtype=tf.resource, name=None)\n",
            "  132919431586816: TensorSpec(shape=(), dtype=tf.resource, name=None)\n",
            "  132919430693632: TensorSpec(shape=(), dtype=tf.resource, name=None)\n",
            "  132919430698912: TensorSpec(shape=(), dtype=tf.resource, name=None)\n",
            "  132919430702960: TensorSpec(shape=(), dtype=tf.resource, name=None)\n",
            "  132919430693280: TensorSpec(shape=(), dtype=tf.resource, name=None)\n",
            "  132919430089712: TensorSpec(shape=(), dtype=tf.resource, name=None)\n",
            "  132919431587520: TensorSpec(shape=(), dtype=tf.resource, name=None)\n",
            "  132919431587696: TensorSpec(shape=(), dtype=tf.resource, name=None)\n",
            "  132919830177296: TensorSpec(shape=(), dtype=tf.resource, name=None)\n",
            "  132919431592096: TensorSpec(shape=(), dtype=tf.resource, name=None)\n",
            "  132919430696096: TensorSpec(shape=(), dtype=tf.resource, name=None)\n",
            "  132919430694512: TensorSpec(shape=(), dtype=tf.resource, name=None)\n",
            "  132919430707536: TensorSpec(shape=(), dtype=tf.resource, name=None)\n",
            "  132919430692928: TensorSpec(shape=(), dtype=tf.resource, name=None)\n",
            "  132919430695920: TensorSpec(shape=(), dtype=tf.resource, name=None)\n",
            "  132919430702784: TensorSpec(shape=(), dtype=tf.resource, name=None)\n",
            "  132919430763568: TensorSpec(shape=(), dtype=tf.resource, name=None)\n",
            "  132919430764624: TensorSpec(shape=(), dtype=tf.resource, name=None)\n",
            "  132919430760752: TensorSpec(shape=(), dtype=tf.resource, name=None)\n",
            "  132919430763392: TensorSpec(shape=(), dtype=tf.resource, name=None)\n",
            "  132919430631264: TensorSpec(shape=(), dtype=tf.resource, name=None)\n",
            "  132919430769728: TensorSpec(shape=(), dtype=tf.resource, name=None)\n",
            "  132919430772192: TensorSpec(shape=(), dtype=tf.resource, name=None)\n",
            "  132919430768320: TensorSpec(shape=(), dtype=tf.resource, name=None)\n",
            "  132919430770960: TensorSpec(shape=(), dtype=tf.resource, name=None)\n",
            "  132919430768672: TensorSpec(shape=(), dtype=tf.resource, name=None)\n",
            "  132919430875792: TensorSpec(shape=(), dtype=tf.resource, name=None)\n",
            "  132919430878256: TensorSpec(shape=(), dtype=tf.resource, name=None)\n",
            "  132919430873680: TensorSpec(shape=(), dtype=tf.resource, name=None)\n",
            "  132919430877200: TensorSpec(shape=(), dtype=tf.resource, name=None)\n",
            "  132919430773776: TensorSpec(shape=(), dtype=tf.resource, name=None)\n",
            "  132919430883360: TensorSpec(shape=(), dtype=tf.resource, name=None)\n",
            "  132919430885824: TensorSpec(shape=(), dtype=tf.resource, name=None)\n",
            "  132919430881952: TensorSpec(shape=(), dtype=tf.resource, name=None)\n",
            "  132919430884592: TensorSpec(shape=(), dtype=tf.resource, name=None)\n",
            "  132919430874384: TensorSpec(shape=(), dtype=tf.resource, name=None)\n",
            "  132919392177136: TensorSpec(shape=(), dtype=tf.resource, name=None)\n",
            "  132919392175200: TensorSpec(shape=(), dtype=tf.resource, name=None)\n",
            "  132919392177664: TensorSpec(shape=(), dtype=tf.resource, name=None)\n",
            "  132919392177312: TensorSpec(shape=(), dtype=tf.resource, name=None)\n",
            "  132919392185584: TensorSpec(shape=(), dtype=tf.resource, name=None)\n",
            "  132919392184528: TensorSpec(shape=(), dtype=tf.resource, name=None)\n",
            "  132919392187168: TensorSpec(shape=(), dtype=tf.resource, name=None)\n",
            "  132919392174496: TensorSpec(shape=(), dtype=tf.resource, name=None)\n",
            "  132919392185056: TensorSpec(shape=(), dtype=tf.resource, name=None)\n",
            "  132919392190160: TensorSpec(shape=(), dtype=tf.resource, name=None)\n",
            "  132919392259408: TensorSpec(shape=(), dtype=tf.resource, name=None)\n",
            "  132919392256944: TensorSpec(shape=(), dtype=tf.resource, name=None)\n",
            "  132919392256064: TensorSpec(shape=(), dtype=tf.resource, name=None)\n",
            "  132919392259584: TensorSpec(shape=(), dtype=tf.resource, name=None)\n",
            "  132919430773952: TensorSpec(shape=(), dtype=tf.resource, name=None)\n",
            "  132919392264160: TensorSpec(shape=(), dtype=tf.resource, name=None)\n",
            "  132919392266624: TensorSpec(shape=(), dtype=tf.resource, name=None)\n",
            "  132919392262752: TensorSpec(shape=(), dtype=tf.resource, name=None)\n",
            "  132919392265392: TensorSpec(shape=(), dtype=tf.resource, name=None)\n",
            "  132919392269440: TensorSpec(shape=(), dtype=tf.resource, name=None)\n",
            "  132919392269088: TensorSpec(shape=(), dtype=tf.resource, name=None)\n",
            "  132919392269264: TensorSpec(shape=(), dtype=tf.resource, name=None)\n",
            "  132919392270496: TensorSpec(shape=(), dtype=tf.resource, name=None)\n",
            "  132919392323008: TensorSpec(shape=(), dtype=tf.resource, name=None)\n",
            "  132919392268208: TensorSpec(shape=(), dtype=tf.resource, name=None)\n",
            "  132919392330048: TensorSpec(shape=(), dtype=tf.resource, name=None)\n",
            "  132919392331104: TensorSpec(shape=(), dtype=tf.resource, name=None)\n",
            "  132919392327232: TensorSpec(shape=(), dtype=tf.resource, name=None)\n",
            "  132919392329872: TensorSpec(shape=(), dtype=tf.resource, name=None)\n",
            "  132919392181360: TensorSpec(shape=(), dtype=tf.resource, name=None)\n",
            "  132919392327584: TensorSpec(shape=(), dtype=tf.resource, name=None)\n",
            "  132919392332688: TensorSpec(shape=(), dtype=tf.resource, name=None)\n",
            "  132919392334448: TensorSpec(shape=(), dtype=tf.resource, name=None)\n",
            "  132919392333216: TensorSpec(shape=(), dtype=tf.resource, name=None)\n",
            "  132919392336384: TensorSpec(shape=(), dtype=tf.resource, name=None)\n",
            "  132919392409328: TensorSpec(shape=(), dtype=tf.resource, name=None)\n",
            "  132919392411968: TensorSpec(shape=(), dtype=tf.resource, name=None)\n",
            "  132919392407920: TensorSpec(shape=(), dtype=tf.resource, name=None)\n",
            "  132919392409856: TensorSpec(shape=(), dtype=tf.resource, name=None)\n",
            "  132919392418128: TensorSpec(shape=(), dtype=tf.resource, name=None)\n",
            "  132919392519968: TensorSpec(shape=(), dtype=tf.resource, name=None)\n",
            "  132919392522080: TensorSpec(shape=(), dtype=tf.resource, name=None)\n",
            "  132919392415664: TensorSpec(shape=(), dtype=tf.resource, name=None)\n",
            "  132919392419184: TensorSpec(shape=(), dtype=tf.resource, name=None)\n",
            "  132919392530528: TensorSpec(shape=(), dtype=tf.resource, name=None)\n",
            "  132919431585584: TensorSpec(shape=(), dtype=tf.resource, name=None)\n",
            "  132919431583824: TensorSpec(shape=(), dtype=tf.resource, name=None)\n",
            "  132919431875040: TensorSpec(shape=(), dtype=tf.resource, name=None)\n",
            "  132919431955904: TensorSpec(shape=(), dtype=tf.resource, name=None)\n",
            "  132919430088832: TensorSpec(shape=(), dtype=tf.resource, name=None)\n",
            "  132919392526304: TensorSpec(shape=(), dtype=tf.resource, name=None)\n",
            "  132919392527184: TensorSpec(shape=(), dtype=tf.resource, name=None)\n",
            "  132919392532992: TensorSpec(shape=(), dtype=tf.resource, name=None)\n",
            "  132919392530880: TensorSpec(shape=(), dtype=tf.resource, name=None)\n",
            "  132919432985088: TensorSpec(shape=(), dtype=tf.resource, name=None)\n",
            "  132919392605232: TensorSpec(shape=(), dtype=tf.resource, name=None)\n",
            "  132919392606816: TensorSpec(shape=(), dtype=tf.resource, name=None)\n",
            "  132919392602416: TensorSpec(shape=(), dtype=tf.resource, name=None)\n",
            "  132919392605056: TensorSpec(shape=(), dtype=tf.resource, name=None)\n",
            "  132919430693456: TensorSpec(shape=(), dtype=tf.resource, name=None)\n",
            "  132919392611568: TensorSpec(shape=(), dtype=tf.resource, name=None)\n",
            "  132919392614032: TensorSpec(shape=(), dtype=tf.resource, name=None)\n",
            "  132919392610160: TensorSpec(shape=(), dtype=tf.resource, name=None)\n",
            "  132919392612800: TensorSpec(shape=(), dtype=tf.resource, name=None)\n",
            "  132919392610512: TensorSpec(shape=(), dtype=tf.resource, name=None)\n",
            "  132919392701248: TensorSpec(shape=(), dtype=tf.resource, name=None)\n",
            "  132919392703712: TensorSpec(shape=(), dtype=tf.resource, name=None)\n",
            "  132919392699136: TensorSpec(shape=(), dtype=tf.resource, name=None)\n",
            "  132919392702656: TensorSpec(shape=(), dtype=tf.resource, name=None)\n",
            "  132919392615616: TensorSpec(shape=(), dtype=tf.resource, name=None)\n",
            "  132919392708816: TensorSpec(shape=(), dtype=tf.resource, name=None)\n",
            "  132919392711280: TensorSpec(shape=(), dtype=tf.resource, name=None)\n",
            "  132919392707408: TensorSpec(shape=(), dtype=tf.resource, name=None)\n",
            "  132919392710048: TensorSpec(shape=(), dtype=tf.resource, name=None)\n",
            "  132919392699840: TensorSpec(shape=(), dtype=tf.resource, name=None)\n",
            "  132919392749344: TensorSpec(shape=(), dtype=tf.resource, name=None)\n",
            "  132919392747936: TensorSpec(shape=(), dtype=tf.resource, name=None)\n",
            "  132919392713920: TensorSpec(shape=(), dtype=tf.resource, name=None)\n",
            "  132919392749520: TensorSpec(shape=(), dtype=tf.resource, name=None)\n",
            "  132919392756384: TensorSpec(shape=(), dtype=tf.resource, name=None)\n",
            "  132919392755328: TensorSpec(shape=(), dtype=tf.resource, name=None)\n",
            "  132919392757968: TensorSpec(shape=(), dtype=tf.resource, name=None)\n",
            "  132919392749696: TensorSpec(shape=(), dtype=tf.resource, name=None)\n",
            "  132919392755856: TensorSpec(shape=(), dtype=tf.resource, name=None)\n",
            "  132919392760960: TensorSpec(shape=(), dtype=tf.resource, name=None)\n",
            "  132919392754272: TensorSpec(shape=(), dtype=tf.resource, name=None)\n",
            "  132919392759728: TensorSpec(shape=(), dtype=tf.resource, name=None)\n",
            "  132919392762016: TensorSpec(shape=(), dtype=tf.resource, name=None)\n",
            "  132919392830736: TensorSpec(shape=(), dtype=tf.resource, name=None)\n",
            "  132919392615792: TensorSpec(shape=(), dtype=tf.resource, name=None)\n",
            "  132919392837776: TensorSpec(shape=(), dtype=tf.resource, name=None)\n",
            "  132919392838832: TensorSpec(shape=(), dtype=tf.resource, name=None)\n",
            "  132919392834960: TensorSpec(shape=(), dtype=tf.resource, name=None)\n",
            "  132919392837600: TensorSpec(shape=(), dtype=tf.resource, name=None)\n",
            "  132919392844816: TensorSpec(shape=(), dtype=tf.resource, name=None)\n",
            "  132919392841296: TensorSpec(shape=(), dtype=tf.resource, name=None)\n",
            "  132919392840944: TensorSpec(shape=(), dtype=tf.resource, name=None)\n",
            "  132919392842000: TensorSpec(shape=(), dtype=tf.resource, name=None)\n",
            "  132919392844992: TensorSpec(shape=(), dtype=tf.resource, name=None)\n",
            "  132919392840416: TensorSpec(shape=(), dtype=tf.resource, name=None)\n",
            "  132919392885872: TensorSpec(shape=(), dtype=tf.resource, name=None)\n",
            "  132919392886928: TensorSpec(shape=(), dtype=tf.resource, name=None)\n",
            "  132919392883056: TensorSpec(shape=(), dtype=tf.resource, name=None)\n",
            "  132919392885696: TensorSpec(shape=(), dtype=tf.resource, name=None)\n",
            "  132919392752160: TensorSpec(shape=(), dtype=tf.resource, name=None)\n",
            "  132919392892032: TensorSpec(shape=(), dtype=tf.resource, name=None)\n",
            "  132919392894496: TensorSpec(shape=(), dtype=tf.resource, name=None)\n",
            "  132919392890624: TensorSpec(shape=(), dtype=tf.resource, name=None)\n",
            "  132919392893264: TensorSpec(shape=(), dtype=tf.resource, name=None)\n",
            "  132919392890976: TensorSpec(shape=(), dtype=tf.resource, name=None)\n",
            "  132919393015712: TensorSpec(shape=(), dtype=tf.resource, name=None)\n",
            "  132919393018352: TensorSpec(shape=(), dtype=tf.resource, name=None)\n",
            "  132919393014304: TensorSpec(shape=(), dtype=tf.resource, name=None)\n",
            "  132919393016240: TensorSpec(shape=(), dtype=tf.resource, name=None)\n",
            "  132919393024512: TensorSpec(shape=(), dtype=tf.resource, name=None)\n",
            "  132919393023456: TensorSpec(shape=(), dtype=tf.resource, name=None)\n",
            "  132919393019936: TensorSpec(shape=(), dtype=tf.resource, name=None)\n",
            "  132919393012368: TensorSpec(shape=(), dtype=tf.resource, name=None)\n",
            "  132919393024688: TensorSpec(shape=(), dtype=tf.resource, name=None)\n",
            "  132919392840592: TensorSpec(shape=(), dtype=tf.resource, name=None)\n",
            "  132919393096752: TensorSpec(shape=(), dtype=tf.resource, name=None)\n",
            "  132919393097808: TensorSpec(shape=(), dtype=tf.resource, name=None)\n",
            "  132919393093936: TensorSpec(shape=(), dtype=tf.resource, name=None)\n",
            "  132919393096576: TensorSpec(shape=(), dtype=tf.resource, name=None)\n",
            "  132919393103792: TensorSpec(shape=(), dtype=tf.resource, name=None)\n",
            "  132919393102736: TensorSpec(shape=(), dtype=tf.resource, name=None)\n",
            "  132919393105376: TensorSpec(shape=(), dtype=tf.resource, name=None)\n",
            "  132919393094288: TensorSpec(shape=(), dtype=tf.resource, name=None)\n",
            "  132919393103264: TensorSpec(shape=(), dtype=tf.resource, name=None)\n",
            "  132919393099392: TensorSpec(shape=(), dtype=tf.resource, name=None)\n",
            "  132919393144848: TensorSpec(shape=(), dtype=tf.resource, name=None)\n",
            "  132919393145376: TensorSpec(shape=(), dtype=tf.resource, name=None)\n",
            "  132919393141504: TensorSpec(shape=(), dtype=tf.resource, name=None)\n",
            "  132919393145024: TensorSpec(shape=(), dtype=tf.resource, name=None)\n",
            "  132919393012544: TensorSpec(shape=(), dtype=tf.resource, name=None)\n",
            "  132919393151008: TensorSpec(shape=(), dtype=tf.resource, name=None)\n",
            "  132919393153472: TensorSpec(shape=(), dtype=tf.resource, name=None)\n",
            "  132919393149600: TensorSpec(shape=(), dtype=tf.resource, name=None)\n",
            "  132919393152240: TensorSpec(shape=(), dtype=tf.resource, name=None)\n",
            "  132919393156288: TensorSpec(shape=(), dtype=tf.resource, name=None)\n",
            "  132919375365392: TensorSpec(shape=(), dtype=tf.resource, name=None)\n",
            "  132919375365040: TensorSpec(shape=(), dtype=tf.resource, name=None)\n",
            "  132919375367680: TensorSpec(shape=(), dtype=tf.resource, name=None)\n",
            "  132919375367152: TensorSpec(shape=(), dtype=tf.resource, name=None)\n",
            "  132919393155056: TensorSpec(shape=(), dtype=tf.resource, name=None)\n",
            "  132919375373312: TensorSpec(shape=(), dtype=tf.resource, name=None)\n",
            "  132919375375776: TensorSpec(shape=(), dtype=tf.resource, name=None)\n",
            "  132919375371904: TensorSpec(shape=(), dtype=tf.resource, name=None)\n",
            "  132919375374544: TensorSpec(shape=(), dtype=tf.resource, name=None)\n",
            "  132919375364160: TensorSpec(shape=(), dtype=tf.resource, name=None)\n",
            "  132919375448016: TensorSpec(shape=(), dtype=tf.resource, name=None)\n",
            "  132919375446080: TensorSpec(shape=(), dtype=tf.resource, name=None)\n",
            "  132919375379824: TensorSpec(shape=(), dtype=tf.resource, name=None)\n",
            "  132919375448192: TensorSpec(shape=(), dtype=tf.resource, name=None)\n",
            "  132919375455056: TensorSpec(shape=(), dtype=tf.resource, name=None)\n",
            "  132919375454000: TensorSpec(shape=(), dtype=tf.resource, name=None)\n",
            "  132919375456640: TensorSpec(shape=(), dtype=tf.resource, name=None)\n",
            "  132919375448544: TensorSpec(shape=(), dtype=tf.resource, name=None)\n",
            "  132919375454528: TensorSpec(shape=(), dtype=tf.resource, name=None)\n",
            "  132919375459808: TensorSpec(shape=(), dtype=tf.resource, name=None)\n",
            "  132919375588064: TensorSpec(shape=(), dtype=tf.resource, name=None)\n",
            "  132919375589472: TensorSpec(shape=(), dtype=tf.resource, name=None)\n",
            "  132919375583488: TensorSpec(shape=(), dtype=tf.resource, name=None)\n",
            "  132919375585776: TensorSpec(shape=(), dtype=tf.resource, name=None)\n",
            "  132919375591584: TensorSpec(shape=(), dtype=tf.resource, name=None)\n",
            "  132919375595296: TensorSpec(shape=(), dtype=tf.resource, name=None)\n",
            "  132919375593888: TensorSpec(shape=(), dtype=tf.resource, name=None)\n",
            "  132919375592640: TensorSpec(shape=(), dtype=tf.resource, name=None)\n",
            "  132919375595472: TensorSpec(shape=(), dtype=tf.resource, name=None)\n",
            "  132919392415312: TensorSpec(shape=(), dtype=tf.resource, name=None)\n",
            "  132919375450832: TensorSpec(shape=(), dtype=tf.resource, name=None)\n",
            "  132919375588416: TensorSpec(shape=(), dtype=tf.resource, name=None)\n",
            "  132919375598816: TensorSpec(shape=(), dtype=tf.resource, name=None)\n"
          ]
        }
      ],
      "source": [
        "converter = tf.lite.TFLiteConverter.from_keras_model(model)\n",
        "tflite_model = converter.convert()\n",
        "\n",
        "with open('mobilenet_v2_1.0_224.tflite', 'wb') as f:\n",
        "  f.write(tflite_model)"
      ]
    },
    {
      "cell_type": "markdown",
      "metadata": {
        "id": "P0_StAtZwJ5p"
      },
      "source": [
        "Namun, file `.tflite` ini masih menggunakan nilai floating-point untuk data parameter, dan kita perlu melakukan kuantisasi penuh pada model ke format int8.\n",
        "\n",
        "Untuk melakukan kuantisasi penuh pada model, kita perlu melakukan [kuantisasi pasca-pelatihan](https://www.tensorflow.org/lite/performance/post_training_quantization) dengan dataset yang representatif, yang memerlukan beberapa argumen tambahan untuk `TFLiteConverter`, serta sebuah fungsi yang membangun dataset yang representatif dari dataset pelatihan.\n",
        "\n",
        "Jadi, mari kita konversi model ini lagi dengan kuantisasi pasca-pelatihan:"
      ]
    },
    {
      "cell_type": "code",
      "execution_count": 23,
      "metadata": {
        "colab": {
          "base_uri": "https://localhost:8080/"
        },
        "id": "w9ydAmHGHUZl",
        "outputId": "7b0e3a0e-e424-4615-e90b-2ebec14bea2a"
      },
      "outputs": [
        {
          "output_type": "stream",
          "name": "stdout",
          "text": [
            "Saved artifact at '/tmp/tmpvrp90b8a'. The following endpoints are available:\n",
            "\n",
            "* Endpoint 'serve'\n",
            "  args_0 (POSITIONAL_ONLY): TensorSpec(shape=(None, 224, 224, 3), dtype=tf.float32, name='keras_tensor_154')\n",
            "Output Type:\n",
            "  TensorSpec(shape=(None, 2), dtype=tf.float32, name=None)\n",
            "Captures:\n",
            "  132919431590160: TensorSpec(shape=(), dtype=tf.resource, name=None)\n",
            "  132919430093056: TensorSpec(shape=(), dtype=tf.resource, name=None)\n",
            "  132919430087248: TensorSpec(shape=(), dtype=tf.resource, name=None)\n",
            "  132919431593504: TensorSpec(shape=(), dtype=tf.resource, name=None)\n",
            "  132919430091472: TensorSpec(shape=(), dtype=tf.resource, name=None)\n",
            "  132919431592448: TensorSpec(shape=(), dtype=tf.resource, name=None)\n",
            "  132919430099744: TensorSpec(shape=(), dtype=tf.resource, name=None)\n",
            "  132919430100800: TensorSpec(shape=(), dtype=tf.resource, name=None)\n",
            "  132919430096928: TensorSpec(shape=(), dtype=tf.resource, name=None)\n",
            "  132919430099568: TensorSpec(shape=(), dtype=tf.resource, name=None)\n",
            "  132921686368752: TensorSpec(shape=(), dtype=tf.resource, name=None)\n",
            "  132919430320496: TensorSpec(shape=(), dtype=tf.resource, name=None)\n",
            "  132919430320144: TensorSpec(shape=(), dtype=tf.resource, name=None)\n",
            "  132919430317680: TensorSpec(shape=(), dtype=tf.resource, name=None)\n",
            "  132919430320320: TensorSpec(shape=(), dtype=tf.resource, name=None)\n",
            "  132919430095168: TensorSpec(shape=(), dtype=tf.resource, name=None)\n",
            "  132919430325248: TensorSpec(shape=(), dtype=tf.resource, name=None)\n",
            "  132919430327712: TensorSpec(shape=(), dtype=tf.resource, name=None)\n",
            "  132919430323840: TensorSpec(shape=(), dtype=tf.resource, name=None)\n",
            "  132919430326480: TensorSpec(shape=(), dtype=tf.resource, name=None)\n",
            "  132919430331760: TensorSpec(shape=(), dtype=tf.resource, name=None)\n",
            "  132919430481344: TensorSpec(shape=(), dtype=tf.resource, name=None)\n",
            "  132919430480464: TensorSpec(shape=(), dtype=tf.resource, name=None)\n",
            "  132919430483632: TensorSpec(shape=(), dtype=tf.resource, name=None)\n",
            "  132919430483104: TensorSpec(shape=(), dtype=tf.resource, name=None)\n",
            "  132919430330528: TensorSpec(shape=(), dtype=tf.resource, name=None)\n",
            "  132919430489264: TensorSpec(shape=(), dtype=tf.resource, name=None)\n",
            "  132919430491728: TensorSpec(shape=(), dtype=tf.resource, name=None)\n",
            "  132919430487856: TensorSpec(shape=(), dtype=tf.resource, name=None)\n",
            "  132919430490496: TensorSpec(shape=(), dtype=tf.resource, name=None)\n",
            "  132919430480112: TensorSpec(shape=(), dtype=tf.resource, name=None)\n",
            "  132919430488208: TensorSpec(shape=(), dtype=tf.resource, name=None)\n",
            "  132919430489088: TensorSpec(shape=(), dtype=tf.resource, name=None)\n",
            "  132919430494368: TensorSpec(shape=(), dtype=tf.resource, name=None)\n",
            "  132919430513936: TensorSpec(shape=(), dtype=tf.resource, name=None)\n",
            "  132919430495424: TensorSpec(shape=(), dtype=tf.resource, name=None)\n",
            "  132919430519392: TensorSpec(shape=(), dtype=tf.resource, name=None)\n",
            "  132919430522032: TensorSpec(shape=(), dtype=tf.resource, name=None)\n",
            "  132919430517984: TensorSpec(shape=(), dtype=tf.resource, name=None)\n",
            "  132919430519920: TensorSpec(shape=(), dtype=tf.resource, name=None)\n",
            "  132919430528192: TensorSpec(shape=(), dtype=tf.resource, name=None)\n",
            "  132919430518336: TensorSpec(shape=(), dtype=tf.resource, name=None)\n",
            "  132919430523616: TensorSpec(shape=(), dtype=tf.resource, name=None)\n",
            "  132919430525376: TensorSpec(shape=(), dtype=tf.resource, name=None)\n",
            "  132919430526960: TensorSpec(shape=(), dtype=tf.resource, name=None)\n",
            "  132919430330704: TensorSpec(shape=(), dtype=tf.resource, name=None)\n",
            "  132919430634432: TensorSpec(shape=(), dtype=tf.resource, name=None)\n",
            "  132919430635488: TensorSpec(shape=(), dtype=tf.resource, name=None)\n",
            "  132919430631616: TensorSpec(shape=(), dtype=tf.resource, name=None)\n",
            "  132919430634256: TensorSpec(shape=(), dtype=tf.resource, name=None)\n",
            "  132919430642880: TensorSpec(shape=(), dtype=tf.resource, name=None)\n",
            "  132919430639360: TensorSpec(shape=(), dtype=tf.resource, name=None)\n",
            "  132919430639008: TensorSpec(shape=(), dtype=tf.resource, name=None)\n",
            "  132919430640064: TensorSpec(shape=(), dtype=tf.resource, name=None)\n",
            "  132919430643056: TensorSpec(shape=(), dtype=tf.resource, name=None)\n",
            "  132919431586816: TensorSpec(shape=(), dtype=tf.resource, name=None)\n",
            "  132919430693632: TensorSpec(shape=(), dtype=tf.resource, name=None)\n",
            "  132919430698912: TensorSpec(shape=(), dtype=tf.resource, name=None)\n",
            "  132919430702960: TensorSpec(shape=(), dtype=tf.resource, name=None)\n",
            "  132919430693280: TensorSpec(shape=(), dtype=tf.resource, name=None)\n",
            "  132919430089712: TensorSpec(shape=(), dtype=tf.resource, name=None)\n",
            "  132919431587520: TensorSpec(shape=(), dtype=tf.resource, name=None)\n",
            "  132919431587696: TensorSpec(shape=(), dtype=tf.resource, name=None)\n",
            "  132919830177296: TensorSpec(shape=(), dtype=tf.resource, name=None)\n",
            "  132919431592096: TensorSpec(shape=(), dtype=tf.resource, name=None)\n",
            "  132919430696096: TensorSpec(shape=(), dtype=tf.resource, name=None)\n",
            "  132919430694512: TensorSpec(shape=(), dtype=tf.resource, name=None)\n",
            "  132919430707536: TensorSpec(shape=(), dtype=tf.resource, name=None)\n",
            "  132919430692928: TensorSpec(shape=(), dtype=tf.resource, name=None)\n",
            "  132919430695920: TensorSpec(shape=(), dtype=tf.resource, name=None)\n",
            "  132919430702784: TensorSpec(shape=(), dtype=tf.resource, name=None)\n",
            "  132919430763568: TensorSpec(shape=(), dtype=tf.resource, name=None)\n",
            "  132919430764624: TensorSpec(shape=(), dtype=tf.resource, name=None)\n",
            "  132919430760752: TensorSpec(shape=(), dtype=tf.resource, name=None)\n",
            "  132919430763392: TensorSpec(shape=(), dtype=tf.resource, name=None)\n",
            "  132919430631264: TensorSpec(shape=(), dtype=tf.resource, name=None)\n",
            "  132919430769728: TensorSpec(shape=(), dtype=tf.resource, name=None)\n",
            "  132919430772192: TensorSpec(shape=(), dtype=tf.resource, name=None)\n",
            "  132919430768320: TensorSpec(shape=(), dtype=tf.resource, name=None)\n",
            "  132919430770960: TensorSpec(shape=(), dtype=tf.resource, name=None)\n",
            "  132919430768672: TensorSpec(shape=(), dtype=tf.resource, name=None)\n",
            "  132919430875792: TensorSpec(shape=(), dtype=tf.resource, name=None)\n",
            "  132919430878256: TensorSpec(shape=(), dtype=tf.resource, name=None)\n",
            "  132919430873680: TensorSpec(shape=(), dtype=tf.resource, name=None)\n",
            "  132919430877200: TensorSpec(shape=(), dtype=tf.resource, name=None)\n",
            "  132919430773776: TensorSpec(shape=(), dtype=tf.resource, name=None)\n",
            "  132919430883360: TensorSpec(shape=(), dtype=tf.resource, name=None)\n",
            "  132919430885824: TensorSpec(shape=(), dtype=tf.resource, name=None)\n",
            "  132919430881952: TensorSpec(shape=(), dtype=tf.resource, name=None)\n",
            "  132919430884592: TensorSpec(shape=(), dtype=tf.resource, name=None)\n",
            "  132919430874384: TensorSpec(shape=(), dtype=tf.resource, name=None)\n",
            "  132919392177136: TensorSpec(shape=(), dtype=tf.resource, name=None)\n",
            "  132919392175200: TensorSpec(shape=(), dtype=tf.resource, name=None)\n",
            "  132919392177664: TensorSpec(shape=(), dtype=tf.resource, name=None)\n",
            "  132919392177312: TensorSpec(shape=(), dtype=tf.resource, name=None)\n",
            "  132919392185584: TensorSpec(shape=(), dtype=tf.resource, name=None)\n",
            "  132919392184528: TensorSpec(shape=(), dtype=tf.resource, name=None)\n",
            "  132919392187168: TensorSpec(shape=(), dtype=tf.resource, name=None)\n",
            "  132919392174496: TensorSpec(shape=(), dtype=tf.resource, name=None)\n",
            "  132919392185056: TensorSpec(shape=(), dtype=tf.resource, name=None)\n",
            "  132919392190160: TensorSpec(shape=(), dtype=tf.resource, name=None)\n",
            "  132919392259408: TensorSpec(shape=(), dtype=tf.resource, name=None)\n",
            "  132919392256944: TensorSpec(shape=(), dtype=tf.resource, name=None)\n",
            "  132919392256064: TensorSpec(shape=(), dtype=tf.resource, name=None)\n",
            "  132919392259584: TensorSpec(shape=(), dtype=tf.resource, name=None)\n",
            "  132919430773952: TensorSpec(shape=(), dtype=tf.resource, name=None)\n",
            "  132919392264160: TensorSpec(shape=(), dtype=tf.resource, name=None)\n",
            "  132919392266624: TensorSpec(shape=(), dtype=tf.resource, name=None)\n",
            "  132919392262752: TensorSpec(shape=(), dtype=tf.resource, name=None)\n",
            "  132919392265392: TensorSpec(shape=(), dtype=tf.resource, name=None)\n",
            "  132919392269440: TensorSpec(shape=(), dtype=tf.resource, name=None)\n",
            "  132919392269088: TensorSpec(shape=(), dtype=tf.resource, name=None)\n",
            "  132919392269264: TensorSpec(shape=(), dtype=tf.resource, name=None)\n",
            "  132919392270496: TensorSpec(shape=(), dtype=tf.resource, name=None)\n",
            "  132919392323008: TensorSpec(shape=(), dtype=tf.resource, name=None)\n",
            "  132919392268208: TensorSpec(shape=(), dtype=tf.resource, name=None)\n",
            "  132919392330048: TensorSpec(shape=(), dtype=tf.resource, name=None)\n",
            "  132919392331104: TensorSpec(shape=(), dtype=tf.resource, name=None)\n",
            "  132919392327232: TensorSpec(shape=(), dtype=tf.resource, name=None)\n",
            "  132919392329872: TensorSpec(shape=(), dtype=tf.resource, name=None)\n",
            "  132919392181360: TensorSpec(shape=(), dtype=tf.resource, name=None)\n",
            "  132919392327584: TensorSpec(shape=(), dtype=tf.resource, name=None)\n",
            "  132919392332688: TensorSpec(shape=(), dtype=tf.resource, name=None)\n",
            "  132919392334448: TensorSpec(shape=(), dtype=tf.resource, name=None)\n",
            "  132919392333216: TensorSpec(shape=(), dtype=tf.resource, name=None)\n",
            "  132919392336384: TensorSpec(shape=(), dtype=tf.resource, name=None)\n",
            "  132919392409328: TensorSpec(shape=(), dtype=tf.resource, name=None)\n",
            "  132919392411968: TensorSpec(shape=(), dtype=tf.resource, name=None)\n",
            "  132919392407920: TensorSpec(shape=(), dtype=tf.resource, name=None)\n",
            "  132919392409856: TensorSpec(shape=(), dtype=tf.resource, name=None)\n",
            "  132919392418128: TensorSpec(shape=(), dtype=tf.resource, name=None)\n",
            "  132919392519968: TensorSpec(shape=(), dtype=tf.resource, name=None)\n",
            "  132919392522080: TensorSpec(shape=(), dtype=tf.resource, name=None)\n",
            "  132919392415664: TensorSpec(shape=(), dtype=tf.resource, name=None)\n",
            "  132919392419184: TensorSpec(shape=(), dtype=tf.resource, name=None)\n",
            "  132919392530528: TensorSpec(shape=(), dtype=tf.resource, name=None)\n",
            "  132919431585584: TensorSpec(shape=(), dtype=tf.resource, name=None)\n",
            "  132919431583824: TensorSpec(shape=(), dtype=tf.resource, name=None)\n",
            "  132919431875040: TensorSpec(shape=(), dtype=tf.resource, name=None)\n",
            "  132919431955904: TensorSpec(shape=(), dtype=tf.resource, name=None)\n",
            "  132919430088832: TensorSpec(shape=(), dtype=tf.resource, name=None)\n",
            "  132919392526304: TensorSpec(shape=(), dtype=tf.resource, name=None)\n",
            "  132919392527184: TensorSpec(shape=(), dtype=tf.resource, name=None)\n",
            "  132919392532992: TensorSpec(shape=(), dtype=tf.resource, name=None)\n",
            "  132919392530880: TensorSpec(shape=(), dtype=tf.resource, name=None)\n",
            "  132919432985088: TensorSpec(shape=(), dtype=tf.resource, name=None)\n",
            "  132919392605232: TensorSpec(shape=(), dtype=tf.resource, name=None)\n",
            "  132919392606816: TensorSpec(shape=(), dtype=tf.resource, name=None)\n",
            "  132919392602416: TensorSpec(shape=(), dtype=tf.resource, name=None)\n",
            "  132919392605056: TensorSpec(shape=(), dtype=tf.resource, name=None)\n",
            "  132919430693456: TensorSpec(shape=(), dtype=tf.resource, name=None)\n",
            "  132919392611568: TensorSpec(shape=(), dtype=tf.resource, name=None)\n",
            "  132919392614032: TensorSpec(shape=(), dtype=tf.resource, name=None)\n",
            "  132919392610160: TensorSpec(shape=(), dtype=tf.resource, name=None)\n",
            "  132919392612800: TensorSpec(shape=(), dtype=tf.resource, name=None)\n",
            "  132919392610512: TensorSpec(shape=(), dtype=tf.resource, name=None)\n",
            "  132919392701248: TensorSpec(shape=(), dtype=tf.resource, name=None)\n",
            "  132919392703712: TensorSpec(shape=(), dtype=tf.resource, name=None)\n",
            "  132919392699136: TensorSpec(shape=(), dtype=tf.resource, name=None)\n",
            "  132919392702656: TensorSpec(shape=(), dtype=tf.resource, name=None)\n",
            "  132919392615616: TensorSpec(shape=(), dtype=tf.resource, name=None)\n",
            "  132919392708816: TensorSpec(shape=(), dtype=tf.resource, name=None)\n",
            "  132919392711280: TensorSpec(shape=(), dtype=tf.resource, name=None)\n",
            "  132919392707408: TensorSpec(shape=(), dtype=tf.resource, name=None)\n",
            "  132919392710048: TensorSpec(shape=(), dtype=tf.resource, name=None)\n",
            "  132919392699840: TensorSpec(shape=(), dtype=tf.resource, name=None)\n",
            "  132919392749344: TensorSpec(shape=(), dtype=tf.resource, name=None)\n",
            "  132919392747936: TensorSpec(shape=(), dtype=tf.resource, name=None)\n",
            "  132919392713920: TensorSpec(shape=(), dtype=tf.resource, name=None)\n",
            "  132919392749520: TensorSpec(shape=(), dtype=tf.resource, name=None)\n",
            "  132919392756384: TensorSpec(shape=(), dtype=tf.resource, name=None)\n",
            "  132919392755328: TensorSpec(shape=(), dtype=tf.resource, name=None)\n",
            "  132919392757968: TensorSpec(shape=(), dtype=tf.resource, name=None)\n",
            "  132919392749696: TensorSpec(shape=(), dtype=tf.resource, name=None)\n",
            "  132919392755856: TensorSpec(shape=(), dtype=tf.resource, name=None)\n",
            "  132919392760960: TensorSpec(shape=(), dtype=tf.resource, name=None)\n",
            "  132919392754272: TensorSpec(shape=(), dtype=tf.resource, name=None)\n",
            "  132919392759728: TensorSpec(shape=(), dtype=tf.resource, name=None)\n",
            "  132919392762016: TensorSpec(shape=(), dtype=tf.resource, name=None)\n",
            "  132919392830736: TensorSpec(shape=(), dtype=tf.resource, name=None)\n",
            "  132919392615792: TensorSpec(shape=(), dtype=tf.resource, name=None)\n",
            "  132919392837776: TensorSpec(shape=(), dtype=tf.resource, name=None)\n",
            "  132919392838832: TensorSpec(shape=(), dtype=tf.resource, name=None)\n",
            "  132919392834960: TensorSpec(shape=(), dtype=tf.resource, name=None)\n",
            "  132919392837600: TensorSpec(shape=(), dtype=tf.resource, name=None)\n",
            "  132919392844816: TensorSpec(shape=(), dtype=tf.resource, name=None)\n",
            "  132919392841296: TensorSpec(shape=(), dtype=tf.resource, name=None)\n",
            "  132919392840944: TensorSpec(shape=(), dtype=tf.resource, name=None)\n",
            "  132919392842000: TensorSpec(shape=(), dtype=tf.resource, name=None)\n",
            "  132919392844992: TensorSpec(shape=(), dtype=tf.resource, name=None)\n",
            "  132919392840416: TensorSpec(shape=(), dtype=tf.resource, name=None)\n",
            "  132919392885872: TensorSpec(shape=(), dtype=tf.resource, name=None)\n",
            "  132919392886928: TensorSpec(shape=(), dtype=tf.resource, name=None)\n",
            "  132919392883056: TensorSpec(shape=(), dtype=tf.resource, name=None)\n",
            "  132919392885696: TensorSpec(shape=(), dtype=tf.resource, name=None)\n",
            "  132919392752160: TensorSpec(shape=(), dtype=tf.resource, name=None)\n",
            "  132919392892032: TensorSpec(shape=(), dtype=tf.resource, name=None)\n",
            "  132919392894496: TensorSpec(shape=(), dtype=tf.resource, name=None)\n",
            "  132919392890624: TensorSpec(shape=(), dtype=tf.resource, name=None)\n",
            "  132919392893264: TensorSpec(shape=(), dtype=tf.resource, name=None)\n",
            "  132919392890976: TensorSpec(shape=(), dtype=tf.resource, name=None)\n",
            "  132919393015712: TensorSpec(shape=(), dtype=tf.resource, name=None)\n",
            "  132919393018352: TensorSpec(shape=(), dtype=tf.resource, name=None)\n",
            "  132919393014304: TensorSpec(shape=(), dtype=tf.resource, name=None)\n",
            "  132919393016240: TensorSpec(shape=(), dtype=tf.resource, name=None)\n",
            "  132919393024512: TensorSpec(shape=(), dtype=tf.resource, name=None)\n",
            "  132919393023456: TensorSpec(shape=(), dtype=tf.resource, name=None)\n",
            "  132919393019936: TensorSpec(shape=(), dtype=tf.resource, name=None)\n",
            "  132919393012368: TensorSpec(shape=(), dtype=tf.resource, name=None)\n",
            "  132919393024688: TensorSpec(shape=(), dtype=tf.resource, name=None)\n",
            "  132919392840592: TensorSpec(shape=(), dtype=tf.resource, name=None)\n",
            "  132919393096752: TensorSpec(shape=(), dtype=tf.resource, name=None)\n",
            "  132919393097808: TensorSpec(shape=(), dtype=tf.resource, name=None)\n",
            "  132919393093936: TensorSpec(shape=(), dtype=tf.resource, name=None)\n",
            "  132919393096576: TensorSpec(shape=(), dtype=tf.resource, name=None)\n",
            "  132919393103792: TensorSpec(shape=(), dtype=tf.resource, name=None)\n",
            "  132919393102736: TensorSpec(shape=(), dtype=tf.resource, name=None)\n",
            "  132919393105376: TensorSpec(shape=(), dtype=tf.resource, name=None)\n",
            "  132919393094288: TensorSpec(shape=(), dtype=tf.resource, name=None)\n",
            "  132919393103264: TensorSpec(shape=(), dtype=tf.resource, name=None)\n",
            "  132919393099392: TensorSpec(shape=(), dtype=tf.resource, name=None)\n",
            "  132919393144848: TensorSpec(shape=(), dtype=tf.resource, name=None)\n",
            "  132919393145376: TensorSpec(shape=(), dtype=tf.resource, name=None)\n",
            "  132919393141504: TensorSpec(shape=(), dtype=tf.resource, name=None)\n",
            "  132919393145024: TensorSpec(shape=(), dtype=tf.resource, name=None)\n",
            "  132919393012544: TensorSpec(shape=(), dtype=tf.resource, name=None)\n",
            "  132919393151008: TensorSpec(shape=(), dtype=tf.resource, name=None)\n",
            "  132919393153472: TensorSpec(shape=(), dtype=tf.resource, name=None)\n",
            "  132919393149600: TensorSpec(shape=(), dtype=tf.resource, name=None)\n",
            "  132919393152240: TensorSpec(shape=(), dtype=tf.resource, name=None)\n",
            "  132919393156288: TensorSpec(shape=(), dtype=tf.resource, name=None)\n",
            "  132919375365392: TensorSpec(shape=(), dtype=tf.resource, name=None)\n",
            "  132919375365040: TensorSpec(shape=(), dtype=tf.resource, name=None)\n",
            "  132919375367680: TensorSpec(shape=(), dtype=tf.resource, name=None)\n",
            "  132919375367152: TensorSpec(shape=(), dtype=tf.resource, name=None)\n",
            "  132919393155056: TensorSpec(shape=(), dtype=tf.resource, name=None)\n",
            "  132919375373312: TensorSpec(shape=(), dtype=tf.resource, name=None)\n",
            "  132919375375776: TensorSpec(shape=(), dtype=tf.resource, name=None)\n",
            "  132919375371904: TensorSpec(shape=(), dtype=tf.resource, name=None)\n",
            "  132919375374544: TensorSpec(shape=(), dtype=tf.resource, name=None)\n",
            "  132919375364160: TensorSpec(shape=(), dtype=tf.resource, name=None)\n",
            "  132919375448016: TensorSpec(shape=(), dtype=tf.resource, name=None)\n",
            "  132919375446080: TensorSpec(shape=(), dtype=tf.resource, name=None)\n",
            "  132919375379824: TensorSpec(shape=(), dtype=tf.resource, name=None)\n",
            "  132919375448192: TensorSpec(shape=(), dtype=tf.resource, name=None)\n",
            "  132919375455056: TensorSpec(shape=(), dtype=tf.resource, name=None)\n",
            "  132919375454000: TensorSpec(shape=(), dtype=tf.resource, name=None)\n",
            "  132919375456640: TensorSpec(shape=(), dtype=tf.resource, name=None)\n",
            "  132919375448544: TensorSpec(shape=(), dtype=tf.resource, name=None)\n",
            "  132919375454528: TensorSpec(shape=(), dtype=tf.resource, name=None)\n",
            "  132919375459808: TensorSpec(shape=(), dtype=tf.resource, name=None)\n",
            "  132919375588064: TensorSpec(shape=(), dtype=tf.resource, name=None)\n",
            "  132919375589472: TensorSpec(shape=(), dtype=tf.resource, name=None)\n",
            "  132919375583488: TensorSpec(shape=(), dtype=tf.resource, name=None)\n",
            "  132919375585776: TensorSpec(shape=(), dtype=tf.resource, name=None)\n",
            "  132919375591584: TensorSpec(shape=(), dtype=tf.resource, name=None)\n",
            "  132919375595296: TensorSpec(shape=(), dtype=tf.resource, name=None)\n",
            "  132919375593888: TensorSpec(shape=(), dtype=tf.resource, name=None)\n",
            "  132919375592640: TensorSpec(shape=(), dtype=tf.resource, name=None)\n",
            "  132919375595472: TensorSpec(shape=(), dtype=tf.resource, name=None)\n",
            "  132919392415312: TensorSpec(shape=(), dtype=tf.resource, name=None)\n",
            "  132919375450832: TensorSpec(shape=(), dtype=tf.resource, name=None)\n",
            "  132919375588416: TensorSpec(shape=(), dtype=tf.resource, name=None)\n",
            "  132919375598816: TensorSpec(shape=(), dtype=tf.resource, name=None)\n"
          ]
        },
        {
          "output_type": "stream",
          "name": "stderr",
          "text": [
            "/usr/local/lib/python3.10/dist-packages/tensorflow/lite/python/convert.py:983: UserWarning: Statistics for quantized inputs were expected, but not specified; continuing anyway.\n",
            "  warnings.warn(\n"
          ]
        }
      ],
      "source": [
        "# Sebuah generator yang menyediakan dataset representatif\n",
        "def representative_data_gen():\n",
        "  dataset_list = tf.data.Dataset.list_files(PATH + '/train/*/*')\n",
        "  for i in range(100):\n",
        "    image = next(iter(dataset_list))\n",
        "    image = tf.io.read_file(image)\n",
        "    image = tf.io.decode_jpeg(image, channels=3)\n",
        "    image = tf.image.resize(image, [IMAGE_SIZE, IMAGE_SIZE])\n",
        "    image = tf.cast(image / 255., tf.float32)\n",
        "    image = tf.expand_dims(image, 0)\n",
        "    yield [image]\n",
        "\n",
        "converter = tf.lite.TFLiteConverter.from_keras_model(model)\n",
        "# Ini mengaktifkan kuantisasi\n",
        "converter.optimizations = [tf.lite.Optimize.DEFAULT]\n",
        "# Ini menetapkan dataset representatif untuk kuantisasi\n",
        "converter.representative_dataset = representative_data_gen\n",
        "# Ini memastikan bahwa jika ada operasi yang tidak bisa dikuantisasi, konverter akan melemparkan error\n",
        "converter.target_spec.supported_ops = [tf.lite.OpsSet.TFLITE_BUILTINS_INT8]\n",
        "# Untuk kuantisasi integer penuh, meskipun tipe yang didukung default-nya hanya int8, kita secara eksplisit menyatakannya untuk kejelasan.\n",
        "converter.target_spec.supported_types = [tf.int8]\n",
        "# Ini menetapkan input dan output tensor ke uint8 (ditambahkan pada r2.3)\n",
        "converter.inference_input_type = tf.uint8\n",
        "converter.inference_output_type = tf.uint8\n",
        "tflite_model = converter.convert()\n",
        "\n",
        "with open('mobilenet_v2_1.0_224_quant.tflite', 'wb') as f:\n",
        "  f.write(tflite_model)"
      ]
    },
    {
      "cell_type": "markdown",
      "metadata": {
        "id": "RMLYBDe_e849"
      },
      "source": [
        "### Bandingkan akurasinya"
      ]
    },
    {
      "cell_type": "markdown",
      "metadata": {
        "id": "SFgbRx_Twd-P"
      },
      "source": [
        "Jadi sekarang kita memiliki model TensorFlow Lite yang sepenuhnya terkuantisasi. Untuk memastikan konversi berjalan dengan baik, mari kita evaluasi model mentah dan model TensorFlow Lite.\n",
        "\n",
        "Pertama-tama, periksa keakuratan model mentah:"
      ]
    },
    {
      "cell_type": "code",
      "execution_count": 24,
      "metadata": {
        "colab": {
          "base_uri": "https://localhost:8080/"
        },
        "id": "RkQ2IlAWfC5O",
        "outputId": "96d16005-f4ee-4892-87a8-7c181e9bb7cb"
      },
      "outputs": [
        {
          "output_type": "stream",
          "name": "stdout",
          "text": [
            "Raw model accuracy: 96.875%\n"
          ]
        }
      ],
      "source": [
        "batch_images, batch_labels = next(val_generator)\n",
        "\n",
        "logits = model(batch_images)\n",
        "prediction = np.argmax(logits, axis=1)\n",
        "truth = np.argmax(batch_labels, axis=1)\n",
        "\n",
        "keras_accuracy = tf.keras.metrics.Accuracy()\n",
        "keras_accuracy(prediction, truth)\n",
        "\n",
        "print(\"Raw model accuracy: {:.3%}\".format(keras_accuracy.result()))"
      ]
    },
    {
      "cell_type": "markdown",
      "metadata": {
        "id": "Hjx3dgZNwmKN"
      },
      "source": [
        "Sekarang mari kita periksa akurasi dari file `.tflite`, menggunakan dataset yang sama.\n",
        "\n",
        "Namun, tidak ada API yang mudah untuk mengevaluasi akurasi model TensorFlow Lite, jadi kode ini menjalankan beberapa inferensi dan membandingkan prediksi dengan kebenaran dasar (ground truth):"
      ]
    },
    {
      "cell_type": "code",
      "execution_count": 25,
      "metadata": {
        "colab": {
          "base_uri": "https://localhost:8080/"
        },
        "id": "iBs0O7q_wlCN",
        "outputId": "23d076a9-4de0-4644-9550-c089ead07a2b"
      },
      "outputs": [
        {
          "output_type": "stream",
          "name": "stdout",
          "text": [
            "Akurasi Quant TF Lite: 96.875%\n"
          ]
        }
      ],
      "source": [
        "def set_input_tensor(interpreter, input):\n",
        "  input_details = interpreter.get_input_details()[0]\n",
        "  tensor_index = input_details['index']\n",
        "  input_tensor = interpreter.tensor(tensor_index)()[0]\n",
        "  # Input untuk model TFLite harus berupa uint8, jadi kita melakukan kuantisasi pada data input kita.\n",
        "  # CATATAN: Langkah ini hanya diperlukan karena kita menerima data input dari\n",
        "  # ImageDataGenerator, yang telah menormalkan semua data gambar ke dalam format float [0,1]. Ketika menggunakan\n",
        "  # input bitmap, data sudah dalam format uint8 [0,255] jadi ini bisa diganti dengan:\n",
        "  #   input_tensor[:, :] = input\n",
        "  scale, zero_point = input_details['quantization']\n",
        "  input_tensor[:, :] = np.uint8(input / scale + zero_point)\n",
        "\n",
        "def classify_image(interpreter, input):\n",
        "  set_input_tensor(interpreter, input)\n",
        "  interpreter.invoke()\n",
        "  output_details = interpreter.get_output_details()[0]\n",
        "  output = interpreter.get_tensor(output_details['index'])\n",
        "  # Output dari model TFLite adalah uint8, jadi kita melakukan dekuantisasi pada hasil:\n",
        "  scale, zero_point = output_details['quantization']\n",
        "  output = scale * (output - zero_point)\n",
        "  top_1 = np.argmax(output)\n",
        "  return top_1\n",
        "\n",
        "interpreter = tf.lite.Interpreter('mobilenet_v2_1.0_224_quant.tflite')\n",
        "interpreter.allocate_tensors()\n",
        "\n",
        "# Mengumpulkan semua prediksi inferensi dalam sebuah daftar\n",
        "batch_prediction = []\n",
        "batch_truth = np.argmax(batch_labels, axis=1)\n",
        "\n",
        "for i in range(len(batch_images)):\n",
        "  prediction = classify_image(interpreter, batch_images[i])\n",
        "  batch_prediction.append(prediction)\n",
        "\n",
        "# Membandingkan semua prediksi dengan kebenaran dasar\n",
        "tflite_accuracy = tf.keras.metrics.Accuracy()\n",
        "tflite_accuracy(batch_prediction, batch_truth)\n",
        "print(\"Akurasi Quant TF Lite: {:.3%}\".format(tflite_accuracy.result()))\n"
      ]
    },
    {
      "cell_type": "markdown",
      "metadata": {
        "id": "WfM4kAPiPg9q"
      },
      "source": [
        "Anda mungkin melihat beberapa, tetapi semoga saja tidak terlalu banyak penurunan akurasi antara model mentah dan model TensorFlow Lite. Namun sekali lagi, hasil ini tidak cocok untuk penerapan produksi."
      ]
    },
    {
      "cell_type": "markdown",
      "metadata": {
        "id": "ZmiHICezwXZq"
      },
      "source": [
        "## Kompilasi untuk Edge TPU"
      ]
    },
    {
      "cell_type": "markdown",
      "metadata": {
        "id": "DhOzAdzF3Dyk"
      },
      "source": [
        "Akhirnya, kita siap untuk mengkompilasi model untuk Edge TPU.\n",
        "\n",
        "Pertama, unduh [Edge TPU Compiler](https://coral.ai/docs/edgetpu/compiler/):"
      ]
    },
    {
      "cell_type": "code",
      "execution_count": 26,
      "metadata": {
        "colab": {
          "base_uri": "https://localhost:8080/"
        },
        "id": "p6ZpWgrk21Ad",
        "outputId": "96b52323-cc9a-430f-9e7e-bfad75d589ed"
      },
      "outputs": [
        {
          "output_type": "stream",
          "name": "stdout",
          "text": [
            "  % Total    % Received % Xferd  Average Speed   Time    Time     Time  Current\n",
            "                                 Dload  Upload   Total   Spent    Left  Speed\n",
            "\r  0     0    0     0    0     0      0      0 --:--:-- --:--:-- --:--:--     0\r100  1022  100  1022    0     0  11725      0 --:--:-- --:--:-- --:--:-- 11747\n",
            "Warning: apt-key is deprecated. Manage keyring files in trusted.gpg.d instead (see apt-key(8)).\n",
            "OK\n",
            "deb https://packages.cloud.google.com/apt coral-edgetpu-stable main\n",
            "Get:1 https://cloud.r-project.org/bin/linux/ubuntu jammy-cran40/ InRelease [3,626 B]\n",
            "Get:2 https://developer.download.nvidia.com/compute/cuda/repos/ubuntu2204/x86_64  InRelease [1,581 B]\n",
            "Get:3 https://developer.download.nvidia.com/compute/cuda/repos/ubuntu2204/x86_64  Packages [1,197 kB]\n",
            "Hit:4 http://archive.ubuntu.com/ubuntu jammy InRelease\n",
            "Get:5 http://security.ubuntu.com/ubuntu jammy-security InRelease [129 kB]\n",
            "Get:6 https://r2u.stat.illinois.edu/ubuntu jammy InRelease [6,555 B]\n",
            "Get:7 https://packages.cloud.google.com/apt coral-edgetpu-stable InRelease [1,423 B]\n",
            "Get:8 http://archive.ubuntu.com/ubuntu jammy-updates InRelease [128 kB]\n",
            "Get:9 https://r2u.stat.illinois.edu/ubuntu jammy/main amd64 Packages [2,632 kB]\n",
            "Get:10 https://packages.cloud.google.com/apt coral-edgetpu-stable/main amd64 Packages [6,888 B]\n",
            "Hit:11 https://ppa.launchpadcontent.net/deadsnakes/ppa/ubuntu jammy InRelease\n",
            "Hit:12 https://ppa.launchpadcontent.net/graphics-drivers/ppa/ubuntu jammy InRelease\n",
            "Get:13 https://packages.cloud.google.com/apt coral-edgetpu-stable/main all Packages [1,865 B]\n",
            "Hit:14 https://ppa.launchpadcontent.net/ubuntugis/ppa/ubuntu jammy InRelease\n",
            "Get:15 http://archive.ubuntu.com/ubuntu jammy-backports InRelease [127 kB]\n",
            "Fetched 4,236 kB in 1s (3,048 kB/s)\n",
            "Reading package lists... Done\n",
            "W: Skipping acquire of configured file 'main/source/Sources' as repository 'https://r2u.stat.illinois.edu/ubuntu jammy InRelease' does not seem to provide it (sources.list entry misspelt?)\n",
            "W: https://packages.cloud.google.com/apt/dists/coral-edgetpu-stable/InRelease: Key is stored in legacy trusted.gpg keyring (/etc/apt/trusted.gpg), see the DEPRECATION section in apt-key(8) for details.\n",
            "Reading package lists... Done\n",
            "Building dependency tree... Done\n",
            "Reading state information... Done\n",
            "The following NEW packages will be installed:\n",
            "  edgetpu-compiler\n",
            "0 upgraded, 1 newly installed, 0 to remove and 54 not upgraded.\n",
            "Need to get 7,913 kB of archives.\n",
            "After this operation, 31.2 MB of additional disk space will be used.\n",
            "Get:1 https://packages.cloud.google.com/apt coral-edgetpu-stable/main amd64 edgetpu-compiler amd64 16.0 [7,913 kB]\n",
            "Fetched 7,913 kB in 1s (15.0 MB/s)\n",
            "debconf: unable to initialize frontend: Dialog\n",
            "debconf: (No usable dialog-like program is installed, so the dialog based frontend cannot be used. at /usr/share/perl5/Debconf/FrontEnd/Dialog.pm line 78, <> line 1.)\n",
            "debconf: falling back to frontend: Readline\n",
            "debconf: unable to initialize frontend: Readline\n",
            "debconf: (This frontend requires a controlling tty.)\n",
            "debconf: falling back to frontend: Teletype\n",
            "dpkg-preconfigure: unable to re-open stdin: \n",
            "Selecting previously unselected package edgetpu-compiler.\n",
            "(Reading database ... 123634 files and directories currently installed.)\n",
            "Preparing to unpack .../edgetpu-compiler_16.0_amd64.deb ...\n",
            "Unpacking edgetpu-compiler (16.0) ...\n",
            "Setting up edgetpu-compiler (16.0) ...\n",
            "Processing triggers for libc-bin (2.35-0ubuntu3.4) ...\n",
            "/sbin/ldconfig.real: /usr/local/lib/libur_loader.so.0 is not a symbolic link\n",
            "\n",
            "/sbin/ldconfig.real: /usr/local/lib/libtbb.so.12 is not a symbolic link\n",
            "\n",
            "/sbin/ldconfig.real: /usr/local/lib/libur_adapter_opencl.so.0 is not a symbolic link\n",
            "\n",
            "/sbin/ldconfig.real: /usr/local/lib/libtbbbind_2_5.so.3 is not a symbolic link\n",
            "\n",
            "/sbin/ldconfig.real: /usr/local/lib/libtcm.so.1 is not a symbolic link\n",
            "\n",
            "/sbin/ldconfig.real: /usr/local/lib/libtbbmalloc_proxy.so.2 is not a symbolic link\n",
            "\n",
            "/sbin/ldconfig.real: /usr/local/lib/libtbbmalloc.so.2 is not a symbolic link\n",
            "\n",
            "/sbin/ldconfig.real: /usr/local/lib/libhwloc.so.15 is not a symbolic link\n",
            "\n",
            "/sbin/ldconfig.real: /usr/local/lib/libtcm_debug.so.1 is not a symbolic link\n",
            "\n",
            "/sbin/ldconfig.real: /usr/local/lib/libtbbbind_2_0.so.3 is not a symbolic link\n",
            "\n",
            "/sbin/ldconfig.real: /usr/local/lib/libumf.so.0 is not a symbolic link\n",
            "\n",
            "/sbin/ldconfig.real: /usr/local/lib/libtbbbind.so.3 is not a symbolic link\n",
            "\n",
            "/sbin/ldconfig.real: /usr/local/lib/libur_adapter_level_zero.so.0 is not a symbolic link\n",
            "\n"
          ]
        }
      ],
      "source": [
        "! curl https://packages.cloud.google.com/apt/doc/apt-key.gpg | sudo apt-key add -\n",
        "\n",
        "! echo \"deb https://packages.cloud.google.com/apt coral-edgetpu-stable main\" | sudo tee /etc/apt/sources.list.d/coral-edgetpu.list\n",
        "\n",
        "! sudo apt-get update\n",
        "\n",
        "! sudo apt-get install edgetpu-compiler"
      ]
    },
    {
      "cell_type": "markdown",
      "metadata": {
        "id": "mtPcYiER3Ymp"
      },
      "source": [
        "Kemudian kompilasi modelnya:"
      ]
    },
    {
      "cell_type": "code",
      "execution_count": 27,
      "metadata": {
        "colab": {
          "base_uri": "https://localhost:8080/"
        },
        "id": "joxrIB0I3cdi",
        "outputId": "54354c2c-7886-4f65-c50d-f892e03fa035"
      },
      "outputs": [
        {
          "output_type": "stream",
          "name": "stdout",
          "text": [
            "Edge TPU Compiler version 16.0.384591198\n",
            "Started a compilation timeout timer of 180 seconds.\n",
            "\n",
            "Model compiled successfully in 1168 ms.\n",
            "\n",
            "Input model: mobilenet_v2_1.0_224_quant.tflite\n",
            "Input size: 2.94MiB\n",
            "Output model: mobilenet_v2_1.0_224_quant_edgetpu.tflite\n",
            "Output size: 3.12MiB\n",
            "On-chip memory used for caching model parameters: 3.33MiB\n",
            "On-chip memory remaining for caching model parameters: 4.36MiB\n",
            "Off-chip memory used for streaming uncached model parameters: 0.00B\n",
            "Number of Edge TPU subgraphs: 1\n",
            "Total number of operations: 72\n",
            "Operation log: mobilenet_v2_1.0_224_quant_edgetpu.log\n",
            "See the operation log file for individual operation details.\n",
            "Compilation child process completed within timeout period.\n",
            "Compilation succeeded! \n"
          ]
        }
      ],
      "source": [
        "! edgetpu_compiler mobilenet_v2_1.0_224_quant.tflite"
      ]
    },
    {
      "cell_type": "markdown",
      "metadata": {
        "id": "7R8JMQc1MMm5"
      },
      "source": [
        "Itu saja.\n",
        "\n",
        "Model yang dikompilasi menggunakan nama file yang sama tetapi dengan \"_edgetpu\" yang ditambahkan di bagian akhir."
      ]
    },
    {
      "cell_type": "markdown",
      "metadata": {
        "id": "Oi9-Voc8A7VK"
      },
      "source": [
        "## Unduh modelnya"
      ]
    },
    {
      "cell_type": "markdown",
      "metadata": {
        "id": "XiugMm-jBbWl"
      },
      "source": [
        "Anda dapat mengunduh file model dan label yang dikonversi dari Colab seperti ini:"
      ]
    },
    {
      "cell_type": "code",
      "execution_count": 28,
      "metadata": {
        "id": "x47uW_lI1DoV",
        "colab": {
          "base_uri": "https://localhost:8080/",
          "height": 17
        },
        "outputId": "13e9cdba-2900-4268-b345-efc872d37838"
      },
      "outputs": [
        {
          "output_type": "display_data",
          "data": {
            "text/plain": [
              "<IPython.core.display.Javascript object>"
            ],
            "application/javascript": [
              "\n",
              "    async function download(id, filename, size) {\n",
              "      if (!google.colab.kernel.accessAllowed) {\n",
              "        return;\n",
              "      }\n",
              "      const div = document.createElement('div');\n",
              "      const label = document.createElement('label');\n",
              "      label.textContent = `Downloading \"${filename}\": `;\n",
              "      div.appendChild(label);\n",
              "      const progress = document.createElement('progress');\n",
              "      progress.max = size;\n",
              "      div.appendChild(progress);\n",
              "      document.body.appendChild(div);\n",
              "\n",
              "      const buffers = [];\n",
              "      let downloaded = 0;\n",
              "\n",
              "      const channel = await google.colab.kernel.comms.open(id);\n",
              "      // Send a message to notify the kernel that we're ready.\n",
              "      channel.send({})\n",
              "\n",
              "      for await (const message of channel.messages) {\n",
              "        // Send a message to notify the kernel that we're ready.\n",
              "        channel.send({})\n",
              "        if (message.buffers) {\n",
              "          for (const buffer of message.buffers) {\n",
              "            buffers.push(buffer);\n",
              "            downloaded += buffer.byteLength;\n",
              "            progress.value = downloaded;\n",
              "          }\n",
              "        }\n",
              "      }\n",
              "      const blob = new Blob(buffers, {type: 'application/binary'});\n",
              "      const a = document.createElement('a');\n",
              "      a.href = window.URL.createObjectURL(blob);\n",
              "      a.download = filename;\n",
              "      div.appendChild(a);\n",
              "      a.click();\n",
              "      div.remove();\n",
              "    }\n",
              "  "
            ]
          },
          "metadata": {}
        },
        {
          "output_type": "display_data",
          "data": {
            "text/plain": [
              "<IPython.core.display.Javascript object>"
            ],
            "application/javascript": [
              "download(\"download_b2beecdb-3218-411e-98bb-2f51b46001c9\", \"mobilenet_v2_1.0_224_quant_edgetpu.tflite\", 3269248)"
            ]
          },
          "metadata": {}
        },
        {
          "output_type": "display_data",
          "data": {
            "text/plain": [
              "<IPython.core.display.Javascript object>"
            ],
            "application/javascript": [
              "\n",
              "    async function download(id, filename, size) {\n",
              "      if (!google.colab.kernel.accessAllowed) {\n",
              "        return;\n",
              "      }\n",
              "      const div = document.createElement('div');\n",
              "      const label = document.createElement('label');\n",
              "      label.textContent = `Downloading \"${filename}\": `;\n",
              "      div.appendChild(label);\n",
              "      const progress = document.createElement('progress');\n",
              "      progress.max = size;\n",
              "      div.appendChild(progress);\n",
              "      document.body.appendChild(div);\n",
              "\n",
              "      const buffers = [];\n",
              "      let downloaded = 0;\n",
              "\n",
              "      const channel = await google.colab.kernel.comms.open(id);\n",
              "      // Send a message to notify the kernel that we're ready.\n",
              "      channel.send({})\n",
              "\n",
              "      for await (const message of channel.messages) {\n",
              "        // Send a message to notify the kernel that we're ready.\n",
              "        channel.send({})\n",
              "        if (message.buffers) {\n",
              "          for (const buffer of message.buffers) {\n",
              "            buffers.push(buffer);\n",
              "            downloaded += buffer.byteLength;\n",
              "            progress.value = downloaded;\n",
              "          }\n",
              "        }\n",
              "      }\n",
              "      const blob = new Blob(buffers, {type: 'application/binary'});\n",
              "      const a = document.createElement('a');\n",
              "      a.href = window.URL.createObjectURL(blob);\n",
              "      a.download = filename;\n",
              "      div.appendChild(a);\n",
              "      a.click();\n",
              "      div.remove();\n",
              "    }\n",
              "  "
            ]
          },
          "metadata": {}
        },
        {
          "output_type": "display_data",
          "data": {
            "text/plain": [
              "<IPython.core.display.Javascript object>"
            ],
            "application/javascript": [
              "download(\"download_a9567e62-81d6-4f0d-a428-d4ae5970512f\", \"catdogs_labels.txt\", 9)"
            ]
          },
          "metadata": {}
        }
      ],
      "source": [
        "from google.colab import files\n",
        "\n",
        "files.download('mobilenet_v2_1.0_224_quant_edgetpu.tflite')\n",
        "files.download('catdogs_labels.txt')"
      ]
    },
    {
      "cell_type": "markdown",
      "metadata": {
        "id": "_qOCP3mXXvsm"
      },
      "source": [
        "Jika Anda mendapatkan kesalahan \"Gagal mengambil\" di sini, mungkin itu karena file belum selesai disimpan. Jadi tunggu sebentar dan coba lagi.\n",
        "\n",
        "Perhatikan juga popup browser yang mungkin memerlukan persetujuan untuk mengunduh file."
      ]
    },
    {
      "cell_type": "markdown",
      "metadata": {
        "id": "_TZTwG7nhm0C"
      },
      "source": [
        "## Jalankan model di Edge TPU"
      ]
    },
    {
      "cell_type": "markdown",
      "metadata": {
        "id": "RwywT4ZpQjLf"
      },
      "source": [
        "Sekarang Anda dapat menjalankan model pada perangkat Coral Anda dengan akselerasi di Edge TPU.\n",
        "\n",
        "Untuk memulai, coba gunakan model `.tflite` Anda dengan [kode ini untuk klasifikasi gambar dengan API TensorFlow Lite](https://github.com/google-coral/tflite/tree/master/python/examples/classification).\n",
        "\n",
        "Ikuti instruksi di halaman tersebut untuk menyiapkan perangkat Anda, salin file `mobilenet_v2_1.0_224_quant_edgetpu.tflite` dan `flower_labels.txt` ke Coral Dev Board atau perangkat dengan Coral Accelerator Anda, dan berikan foto bunga seperti ini:\n",
        "\n",
        "```\n",
        "python3 classify_image.py \\\n",
        "  --model mobilenet_v2_1.0_224_quant_edgetpu.tflite \\\n",
        "  --labels flower_labels.txt \\\n",
        "  --input flower.jpg\n",
        "```\n",
        "\n",
        "Notebook ini merujuk dari [coral.ai/examples](https://coral.ai/examples/#code-examples/). Periksa lebih banyak contoh di sana."
      ]
    },
    {
      "cell_type": "code",
      "execution_count": 28,
      "metadata": {
        "id": "Z22ABdF88xWu"
      },
      "outputs": [],
      "source": []
    }
  ],
  "metadata": {
    "accelerator": "GPU",
    "colab": {
      "gpuType": "T4",
      "provenance": []
    },
    "kernelspec": {
      "display_name": "Python 3",
      "name": "python3"
    }
  },
  "nbformat": 4,
  "nbformat_minor": 0
}