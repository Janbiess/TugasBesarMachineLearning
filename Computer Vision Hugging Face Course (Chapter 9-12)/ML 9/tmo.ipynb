{
  "cells": [
    {
      "cell_type": "markdown",
      "metadata": {
        "id": "rjAjMfkOwaJj"
      },
      "source": [
        "# Tensorflow Model Optimization Toolkit (TMO)\n",
        "\n",
        "Dalam buku catatan ini, kami akan menunjukkan cara menggunakan TMO untuk mengoptimalkan model untuk penerapan. Kami melatih model pada set data MNIST lalu mengoptimalkannya menggunakan TMO. Kami kemudian akan membandingkan ukuran dan akurasi model yang dioptimalkan dengan model asli."
      ]
    },
    {
      "cell_type": "markdown",
      "metadata": {
        "id": "yUEqCC0ZwaJk"
      },
      "source": [
        "## Siapkan TMO\n",
        "\n",
        "Pertama, kita instal TMO dan impor paket yang dibutuhkan."
      ]
    },
    {
      "cell_type": "code",
      "execution_count": 1,
      "metadata": {
        "colab": {
          "base_uri": "https://localhost:8080/"
        },
        "id": "zQJeCE4ewaJk",
        "outputId": "752f6fca-fcd0-4ffc-84ba-0db59ca46fb9"
      },
      "outputs": [
        {
          "output_type": "stream",
          "name": "stdout",
          "text": [
            "\u001b[2K   \u001b[90m━━━━━━━━━━━━━━━━━━━━━━━━━━━━━━━━━━━━━━━━\u001b[0m \u001b[32m242.5/242.5 kB\u001b[0m \u001b[31m597.2 kB/s\u001b[0m eta \u001b[36m0:00:00\u001b[0m\n",
            "\u001b[?25h"
          ]
        }
      ],
      "source": [
        "%pip install -q tensorflow\n",
        "%pip install -q tensorflow-model-optimization"
      ]
    },
    {
      "cell_type": "code",
      "execution_count": 2,
      "metadata": {
        "id": "4F5T9aurwaJl"
      },
      "outputs": [],
      "source": [
        "import tensorflow as tf\n",
        "import tensorflow_model_optimization as tfmot\n",
        "from tensorflow import keras\n",
        "import pathlib\n",
        "import numpy as np\n"
      ]
    },
    {
      "cell_type": "markdown",
      "metadata": {
        "id": "PrytRU1GwaJl"
      },
      "source": [
        "## Kuantisasi Setelah Pelatihan\n",
        "\n",
        "Alat kuantisasi setelah pelatihan mengonversi bobot model yang telah dilatih dari presisi 32 bit ke presisi 8 bit. Alat ini mengonversi model TensorFlow float yang sudah dilatih saat kita mengonversinya ke format TensorFlow Lite menggunakan [TensorFlow Lite Converter](https://www.tensorflow.org/lite/models/convert/)."
      ]
    },
    {
      "cell_type": "markdown",
      "metadata": {
        "id": "m9DOceYkwaJl"
      },
      "source": [
        "### Memuat dataset MNIST\n",
        "\n",
        "Kami memuat dataset MNIST dari Keras dan mempersiapkannya untuk pelatihan."
      ]
    },
    {
      "cell_type": "code",
      "execution_count": 3,
      "metadata": {
        "colab": {
          "base_uri": "https://localhost:8080/"
        },
        "id": "yOQG4QvRwaJl",
        "outputId": "1fb8efec-c9f4-4318-e0ee-a3ed26731664"
      },
      "outputs": [
        {
          "output_type": "stream",
          "name": "stdout",
          "text": [
            "Downloading data from https://storage.googleapis.com/tensorflow/tf-keras-datasets/mnist.npz\n",
            "11490434/11490434 [==============================] - 0s 0us/step\n"
          ]
        }
      ],
      "source": [
        "# Memuat dataset MNIST\n",
        "mnist = keras.datasets.mnist\n",
        "(train_images, train_labels), (test_images, test_labels) = mnist.load_data()\n",
        "\n",
        "# Menormalisasi gambar input sehingga setiap nilai piksel berada di antara 0 dan 1.\n",
        "train_images = train_images / 255.0\n",
        "test_images = test_images / 255.0"
      ]
    },
    {
      "cell_type": "markdown",
      "metadata": {
        "id": "0r2VkL90waJl"
      },
      "source": [
        "### Melatih Model\n",
        "\n",
        "Selanjutnya, kami mendefinisikan model CNN dan melatihnya pada dataset MNIST."
      ]
    },
    {
      "cell_type": "code",
      "execution_count": 4,
      "metadata": {
        "colab": {
          "base_uri": "https://localhost:8080/"
        },
        "id": "5P_6NfuhwaJl",
        "outputId": "dc8d544a-e0e0-49ff-b7aa-745fdcd14aff"
      },
      "outputs": [
        {
          "output_type": "stream",
          "name": "stdout",
          "text": [
            "1875/1875 [==============================] - 15s 6ms/step - loss: 0.2764 - accuracy: 0.9231 - val_loss: 0.1339 - val_accuracy: 0.9623\n"
          ]
        },
        {
          "output_type": "execute_result",
          "data": {
            "text/plain": [
              "<tf_keras.src.callbacks.History at 0x7fbcf2af3790>"
            ]
          },
          "metadata": {},
          "execution_count": 4
        }
      ],
      "source": [
        "# Mendefinisikan arsitektur model\n",
        "model = keras.Sequential([\n",
        "  keras.layers.InputLayer(input_shape=(28, 28)),  # Lapisan input dengan bentuk (28, 28)\n",
        "  keras.layers.Reshape(target_shape=(28, 28, 1)),  # Mengubah bentuk input menjadi (28, 28, 1)\n",
        "  keras.layers.Conv2D(filters=12, kernel_size=(3, 3), activation=tf.nn.relu),  # Lapisan konvolusi dengan 12 filter dan ukuran kernel 3x3\n",
        "  keras.layers.MaxPooling2D(pool_size=(2, 2)),  # Lapisan pooling maksimum dengan ukuran 2x2\n",
        "  keras.layers.Flatten(),  # Mengubah array multidimensi menjadi satu dimensi\n",
        "  keras.layers.Dense(10)  # Lapisan dense dengan 10 neuron (sesuai dengan jumlah kelas digit)\n",
        "])\n",
        "\n",
        "# Melatih model klasifikasi digit\n",
        "model.compile(optimizer='adam',  # Optimizer Adam\n",
        "              loss=keras.losses.SparseCategoricalCrossentropy(from_logits=True),  # Fungsi kerugian untuk klasifikasi\n",
        "              metrics=['accuracy'])  # Metrik akurasi\n",
        "model.fit(\n",
        "  train_images,  # Data pelatihan\n",
        "  train_labels,  # Label pelatihan\n",
        "  epochs=1,  # Jumlah epoch pelatihan\n",
        "  validation_data=(test_images, test_labels)  # Data validasi\n",
        ")"
      ]
    },
    {
      "cell_type": "markdown",
      "metadata": {
        "id": "RWcBhR15waJm"
      },
      "source": [
        "### Mengonversi Model ke TFLite\n",
        "\n",
        "Setelah melatih model, kita mengonversinya ke format [TFLite](https://www.tensorflow.org/lite/guide) dan kemudian melakukan kuantisasi selama proses konversi."
      ]
    },
    {
      "cell_type": "code",
      "execution_count": 5,
      "metadata": {
        "colab": {
          "base_uri": "https://localhost:8080/"
        },
        "id": "tgOC9f6YwaJm",
        "outputId": "96f8f55b-df2e-4cc9-a69d-2a514eb3e91d"
      },
      "outputs": [
        {
          "output_type": "execute_result",
          "data": {
            "text/plain": [
              "23968"
            ]
          },
          "metadata": {},
          "execution_count": 5
        }
      ],
      "source": [
        "tflite_models_dir = pathlib.Path(\"notebooks/Unit 9 - Model Optimization/models\")\n",
        "tflite_models_dir.mkdir(exist_ok=True, parents=True)  # Membuat direktori untuk menyimpan model jika belum ada\n",
        "converter = tf.lite.TFLiteConverter.from_keras_model(model)  # Menginisialisasi konverter dari model Keras\n",
        "\n",
        "# Tanpa kuantisasi\n",
        "tflite_model = converter.convert()  # Mengonversi model ke format TFLite\n",
        "tflite_model_file = tflite_models_dir/\"original_model.tflite\"  # Menentukan nama file untuk model TFLite asli\n",
        "tflite_model_file.write_bytes(tflite_model)  # Menyimpan model ke file\n",
        "\n",
        "# Dengan kuantisasi\n",
        "converter.optimizations = [tf.lite.Optimize.DEFAULT]  # Mengaktifkan optimisasi default untuk kuantisasi\n",
        "tflite_quant_model = converter.convert()  # Mengonversi model ke format TFLite dengan kuantisasi\n",
        "tflite_model_quant_file = tflite_models_dir/\"quantized_model.tflite\"  # Menentukan nama file untuk model TFLite dengan kuantisasi\n",
        "tflite_model_quant_file.write_bytes(tflite_quant_model)  # Menyimpan model yang telah dikuantisasi ke file\n"
      ]
    },
    {
      "cell_type": "markdown",
      "metadata": {
        "id": "PNS5id99waJm"
      },
      "source": [
        "### Periksa Ukuran Model\n",
        "\n",
        "Ukuran model terkuantisasi jauh lebih kecil daripada model asli."
      ]
    },
    {
      "cell_type": "code",
      "execution_count": 6,
      "metadata": {
        "colab": {
          "base_uri": "https://localhost:8080/"
        },
        "id": "mC75PsLawaJm",
        "outputId": "6353d6bb-8136-4748-cbad-c44212a9dd78"
      },
      "outputs": [
        {
          "output_type": "stream",
          "name": "stdout",
          "text": [
            "ls: cannot access 'notebooks/Unit': No such file or directory\n",
            "ls: cannot access '9': No such file or directory\n",
            "ls: cannot access '-': No such file or directory\n",
            "ls: cannot access 'Model': No such file or directory\n",
            "ls: cannot access 'Optimization/models': No such file or directory\n"
          ]
        }
      ],
      "source": [
        "%ls -lh {tflite_models_dir}"
      ]
    },
    {
      "cell_type": "markdown",
      "metadata": {
        "id": "eIfNMJ9lwaJm"
      },
      "source": [
        "### Periksa Akurasi Model\n",
        "\n",
        "Selanjutnya, kami mengevaluasi akurasi model terkuantisasi pada kumpulan data pengujian dan membandingkannya dengan model asli.\n",
        "Berdasarkan hasil, kita dapat melihat bahwa akurasi model terkuantisasi sangat mendekati model asli."
      ]
    },
    {
      "cell_type": "code",
      "execution_count": 7,
      "metadata": {
        "colab": {
          "base_uri": "https://localhost:8080/"
        },
        "id": "kNoUfJX7waJm",
        "outputId": "10ceb5f4-1f29-4e38-a5ec-df8c8a0f1c6b"
      },
      "outputs": [
        {
          "output_type": "stream",
          "name": "stdout",
          "text": [
            "Akurasi model asli =  0.9623\n",
            "Akurasi model kuantisasi =  0.9626\n"
          ]
        }
      ],
      "source": [
        "# Fungsi pembantu untuk mengevaluasi model TF Lite menggunakan dataset \"test\".\n",
        "def evaluate_model(interpreter):\n",
        "    input_index = interpreter.get_input_details()[0][\"index\"]  # Mendapatkan indeks input model\n",
        "    output_index = interpreter.get_output_details()[0][\"index\"]  # Mendapatkan indeks output model\n",
        "\n",
        "    # Melakukan prediksi pada setiap gambar dalam dataset \"test\".\n",
        "    prediction_digits = []\n",
        "    for test_image in test_images:\n",
        "        # Pra-pemrosesan: tambahkan dimensi batch dan ubah tipe data ke float32\n",
        "        # agar sesuai dengan format data input model.\n",
        "        test_image = np.expand_dims(test_image, axis=0).astype(np.float32)\n",
        "        interpreter.set_tensor(input_index, test_image)  # Menetapkan tensor input\n",
        "\n",
        "        # Menjalankan inferensi.\n",
        "        interpreter.invoke()\n",
        "\n",
        "        # Pasca-pemrosesan: hapus dimensi batch dan temukan digit dengan\n",
        "        # probabilitas tertinggi.\n",
        "        output = interpreter.tensor(output_index)\n",
        "        digit = np.argmax(output()[0])  # Mendapatkan indeks dengan nilai maksimum\n",
        "        prediction_digits.append(digit)\n",
        "\n",
        "    # Membandingkan hasil prediksi dengan label ground truth untuk menghitung akurasi.\n",
        "    accurate_count = 0\n",
        "    for index in range(len(prediction_digits)):\n",
        "        if prediction_digits[index] == test_labels[index]:\n",
        "            accurate_count += 1\n",
        "    accuracy = accurate_count * 1.0 / len(prediction_digits)  # Menghitung akurasi\n",
        "\n",
        "    return accuracy\n",
        "\n",
        "\n",
        "# Menginisialisasi interpreter untuk model asli.\n",
        "interpreter = tf.lite.Interpreter(model_path=str(tflite_model_file))\n",
        "interpreter.allocate_tensors()  # Mengalokasikan tensor\n",
        "print(\"Akurasi model asli = \", evaluate_model(interpreter))  # Evaluasi model asli\n",
        "\n",
        "# Menginisialisasi interpreter untuk model kuantisasi.\n",
        "interpreter_quant = tf.lite.Interpreter(model_path=str(tflite_model_quant_file))\n",
        "interpreter_quant.allocate_tensors()  # Mengalokasikan tensor\n",
        "print(\"Akurasi model kuantisasi = \", evaluate_model(interpreter_quant))  # Evaluasi model kuantisasi\n"
      ]
    },
    {
      "cell_type": "markdown",
      "metadata": {
        "id": "_LqUJXZswaJm"
      },
      "source": [
        "## Pemangkasan\n",
        "\n",
        "Pemangkasan adalah teknik untuk mengurangi ukuran model dengan membuang bobot yang tidak penting. Hal ini ditentukan oleh besarnya bobot. Kita dapat menggunakan pemangkasan saat melatih model untuk mengurangi ukuran model."
      ]
    },
    {
      "cell_type": "code",
      "execution_count": 8,
      "metadata": {
        "colab": {
          "base_uri": "https://localhost:8080/"
        },
        "id": "7NBq8U2mwaJm",
        "outputId": "67747e28-6925-40fa-9ce8-730e79237056"
      },
      "outputs": [
        {
          "output_type": "stream",
          "name": "stdout",
          "text": [
            "Model: \"sequential\"\n",
            "_________________________________________________________________\n",
            " Layer (type)                Output Shape              Param #   \n",
            "=================================================================\n",
            " prune_low_magnitude_reshap  (None, 28, 28, 1)         1         \n",
            " e (PruneLowMagnitude)                                           \n",
            "                                                                 \n",
            " prune_low_magnitude_conv2d  (None, 26, 26, 12)        230       \n",
            "  (PruneLowMagnitude)                                            \n",
            "                                                                 \n",
            " prune_low_magnitude_max_po  (None, 13, 13, 12)        1         \n",
            " oling2d (PruneLowMagnitude                                      \n",
            " )                                                               \n",
            "                                                                 \n",
            " prune_low_magnitude_flatte  (None, 2028)              1         \n",
            " n (PruneLowMagnitude)                                           \n",
            "                                                                 \n",
            " prune_low_magnitude_dense   (None, 10)                40572     \n",
            " (PruneLowMagnitude)                                             \n",
            "                                                                 \n",
            "=================================================================\n",
            "Total params: 40805 (159.41 KB)\n",
            "Trainable params: 20410 (79.73 KB)\n",
            "Non-trainable params: 20395 (79.69 KB)\n",
            "_________________________________________________________________\n",
            "None\n",
            "Epoch 1/2\n",
            "422/422 [==============================] - 13s 17ms/step - loss: 0.1555 - accuracy: 0.9618 - val_loss: 0.1473 - val_accuracy: 0.9705\n",
            "Epoch 2/2\n",
            "422/422 [==============================] - 2s 5ms/step - loss: 0.1498 - accuracy: 0.9605 - val_loss: 0.1159 - val_accuracy: 0.9680\n"
          ]
        },
        {
          "output_type": "execute_result",
          "data": {
            "text/plain": [
              "<tf_keras.src.callbacks.History at 0x7fbcc8518370>"
            ]
          },
          "metadata": {},
          "execution_count": 8
        }
      ],
      "source": [
        "prune_low_magnitude = tfmot.sparsity.keras.prune_low_magnitude  # Mengimpor fungsi pruning\n",
        "\n",
        "# Menghitung langkah akhir untuk menyelesaikan pruning setelah 2 epoch.\n",
        "batch_size = 128\n",
        "epochs = 2\n",
        "validation_split = 0.1  # 10% dari dataset pelatihan akan digunakan sebagai dataset validasi.\n",
        "\n",
        "num_images = train_images.shape[0] * (1 - validation_split)  # Jumlah gambar untuk pelatihan\n",
        "end_step = np.ceil(num_images / batch_size).astype(np.int32) * epochs  # Langkah akhir pruning\n",
        "\n",
        "# Mendefinisikan model untuk pruning.\n",
        "pruning_params = {\n",
        "    'pruning_schedule': tfmot.sparsity.keras.PolynomialDecay(\n",
        "        initial_sparsity=0.50,  # Tingkat sparsitas awal\n",
        "        final_sparsity=0.80,  # Tingkat sparsitas akhir\n",
        "        begin_step=0,  # Langkah awal untuk memulai pruning\n",
        "        end_step=end_step  # Langkah akhir untuk menyelesaikan pruning\n",
        "    )\n",
        "}\n",
        "\n",
        "# Membuat model yang mendukung pruning.\n",
        "model_for_pruning = prune_low_magnitude(model, **pruning_params)\n",
        "\n",
        "# `prune_low_magnitude` membutuhkan recompilasi model.\n",
        "model_for_pruning.compile(\n",
        "    optimizer='adam',\n",
        "    loss=tf.keras.losses.SparseCategoricalCrossentropy(from_logits=True),\n",
        "    metrics=['accuracy']\n",
        ")\n",
        "\n",
        "# Menampilkan ringkasan model.\n",
        "print(model_for_pruning.summary())\n",
        "\n",
        "# Mendefinisikan callback untuk memperbarui langkah pruning.\n",
        "callbacks = [\n",
        "    tfmot.sparsity.keras.UpdatePruningStep(),\n",
        "]\n",
        "\n",
        "# Melatih model yang mendukung pruning.\n",
        "model_for_pruning.fit(\n",
        "    train_images, train_labels,\n",
        "    batch_size=batch_size, epochs=epochs, validation_split=validation_split,\n",
        "    callbacks=callbacks\n",
        ")\n"
      ]
    },
    {
      "cell_type": "markdown",
      "metadata": {
        "id": "F4Ax--C5waJm"
      },
      "source": [
        "### Bandingkan Akurasi\n",
        "\n",
        "Kita dapat melihat bahwa akurasi model yang dipangkas sangat mendekati model asli."
      ]
    },
    {
      "cell_type": "code",
      "execution_count": 9,
      "metadata": {
        "colab": {
          "base_uri": "https://localhost:8080/"
        },
        "id": "5gz15o5VwaJm",
        "outputId": "154c064b-097e-4f66-87dd-c1d3a333ca02"
      },
      "outputs": [
        {
          "output_type": "stream",
          "name": "stdout",
          "text": [
            "Akurasi model awal: 0.9646999835968018\n",
            "Akurasi model setelah pruning: 0.9646999835968018\n"
          ]
        }
      ],
      "source": [
        "# Mengevaluasi akurasi model awal (tanpa pruning).\n",
        "_, baseline_model_accuracy = model.evaluate(\n",
        "    test_images, test_labels, verbose=0)\n",
        "\n",
        "# Mengevaluasi akurasi model setelah pruning.\n",
        "_, model_for_pruning_accuracy = model_for_pruning.evaluate(\n",
        "    test_images, test_labels, verbose=0)\n",
        "\n",
        "# Menampilkan hasil akurasi.\n",
        "print('Akurasi model awal:', baseline_model_accuracy)\n",
        "print('Akurasi model setelah pruning:', model_for_pruning_accuracy)\n"
      ]
    },
    {
      "cell_type": "markdown",
      "metadata": {
        "id": "xVo7IZRHwaJm"
      },
      "source": [
        "### Bandingkan Ukuran Model\n",
        "\n",
        "Terakhir, kami membandingkan ukuran model yang dipangkas dengan model asli."
      ]
    },
    {
      "cell_type": "code",
      "execution_count": 10,
      "metadata": {
        "colab": {
          "base_uri": "https://localhost:8080/"
        },
        "id": "qOj7fxGlwaJm",
        "outputId": "96da5b65-ab61-44e6-ff55-4e6585da489e"
      },
      "outputs": [
        {
          "output_type": "execute_result",
          "data": {
            "text/plain": [
              "84616"
            ]
          },
          "metadata": {},
          "execution_count": 10
        }
      ],
      "source": [
        "# Menghapus pruning dari model untuk menyiapkan model yang telah dipangkas.\n",
        "model_for_export = tfmot.sparsity.keras.strip_pruning(model_for_pruning)\n",
        "\n",
        "# Mengonversi model yang telah dipangkas ke format TFLite.\n",
        "pruning_converter = tf.lite.TFLiteConverter.from_keras_model(model_for_export)\n",
        "pruned_tflite_model = pruning_converter.convert()\n",
        "\n",
        "# Menyimpan model TFLite yang telah dipangkas ke dalam file.\n",
        "pruned_model_file = tflite_models_dir/\"pruned_model.tflite\"\n",
        "pruned_model_file.write_bytes(pruned_tflite_model)\n"
      ]
    },
    {
      "cell_type": "code",
      "execution_count": 11,
      "metadata": {
        "colab": {
          "base_uri": "https://localhost:8080/"
        },
        "id": "q8VAMhojwaJm",
        "outputId": "5be3dcec-9bce-48c3-cbdd-75f750c769bd"
      },
      "outputs": [
        {
          "output_type": "stream",
          "name": "stdout",
          "text": [
            "ls: cannot access 'notebooks/Unit': No such file or directory\n",
            "ls: cannot access '9': No such file or directory\n",
            "ls: cannot access '-': No such file or directory\n",
            "ls: cannot access 'Model': No such file or directory\n",
            "ls: cannot access 'Optimization/models': No such file or directory\n"
          ]
        }
      ],
      "source": [
        "%ls -lh {tflite_models_dir}"
      ]
    }
  ],
  "metadata": {
    "kernelspec": {
      "display_name": "Python 3",
      "name": "python3"
    },
    "language_info": {
      "codemirror_mode": {
        "name": "ipython",
        "version": 3
      },
      "file_extension": ".py",
      "mimetype": "text/x-python",
      "name": "python",
      "nbconvert_exporter": "python",
      "pygments_lexer": "ipython3",
      "version": "3.10.13"
    },
    "colab": {
      "provenance": [],
      "gpuType": "T4"
    },
    "accelerator": "GPU"
  },
  "nbformat": 4,
  "nbformat_minor": 0
}